{
 "cells": [
  {
   "cell_type": "code",
   "execution_count": 1,
   "id": "025255b3-308f-4923-b593-229b773e7dc6",
   "metadata": {},
   "outputs": [
    {
     "data": {
      "text/plain": [
       "true"
      ]
     },
     "execution_count": 1,
     "metadata": {},
     "output_type": "execute_result"
    }
   ],
   "source": [
    "require './Gene.rb'\n",
    "require './HybridCross.rb'\n",
    "require './SeedStock.rb'\n",
    "require './StockDatabase.rb'"
   ]
  },
  {
   "cell_type": "code",
   "execution_count": null,
   "id": "095493dd-cd46-4625-ac97-5ceeca761c9e",
   "metadata": {},
   "outputs": [],
   "source": []
  },
  {
   "cell_type": "code",
   "execution_count": 2,
   "id": "671d7d62-8584-4308-92ae-a0a029f99939",
   "metadata": {},
   "outputs": [
    {
     "data": {
      "text/plain": [
       "\"./StockDatabaseDataFiles/seed_stock_data.tsv\""
      ]
     },
     "execution_count": 2,
     "metadata": {},
     "output_type": "execute_result"
    }
   ],
   "source": [
    "$stock_file = './StockDatabaseDataFiles/seed_stock_data.tsv'"
   ]
  },
  {
   "cell_type": "code",
   "execution_count": 3,
   "id": "e5e5f18b-74c0-43e0-a5d3-d715ec153683",
   "metadata": {},
   "outputs": [],
   "source": [
    "database = StockDatabase.new\n",
    "database.load_from_file($stock_file)"
   ]
  },
  {
   "cell_type": "code",
   "execution_count": null,
   "id": "5da3c619-a5cb-4f93-8139-1ef24455d839",
   "metadata": {},
   "outputs": [],
   "source": [
    "database.get_seed_stock('A348')"
   ]
  },
  {
   "cell_type": "code",
   "execution_count": null,
   "id": "f1f6fdbd-75ff-4f1a-8d5e-8b343c170c59",
   "metadata": {},
   "outputs": [],
   "source": [
    "database.plant_seed(7)"
   ]
  },
  {
   "cell_type": "code",
   "execution_count": null,
   "id": "39fdcbb3-05c0-4169-b994-9673019c1946",
   "metadata": {},
   "outputs": [],
   "source": [
    "database.write_database('seed_stock_data.tsv')"
   ]
  },
  {
   "cell_type": "code",
   "execution_count": 6,
   "id": "c3c2a06c-2c32-4c8b-88e3-06e185b89c32",
   "metadata": {},
   "outputs": [
    {
     "data": {
      "text/plain": [
       "#<Gene:0x0000000120312628 @gene_name=\"ap1\", @mutant_phenotype=\"meristems replace first and second whorl\", @gene_id=\"AT1G69120\">"
      ]
     },
     "execution_count": 6,
     "metadata": {},
     "output_type": "execute_result"
    }
   ],
   "source": [
    "gene = Gene.new(\n",
    "    gene_id: 'AT1G69120',\n",
    "    gene_name: 'ap1',\n",
    "    mutant_phenotype: \"meristems replace first and second whorl\")\n",
    "    "
   ]
  },
  {
   "cell_type": "code",
   "execution_count": 7,
   "id": "f04d12a7-f8c6-4267-94eb-2d883b0887db",
   "metadata": {},
   "outputs": [
    {
     "data": {
      "text/plain": [
       "\"AT1G69120\""
      ]
     },
     "execution_count": 7,
     "metadata": {},
     "output_type": "execute_result"
    }
   ],
   "source": [
    "gene.gene_id"
   ]
  },
  {
   "cell_type": "code",
   "execution_count": null,
   "id": "98df223c-1da2-4968-be1f-baa4bbdb924e",
   "metadata": {},
   "outputs": [],
   "source": [
    "'AT1G69120'.length"
   ]
  },
  {
   "cell_type": "code",
   "execution_count": null,
   "id": "395b58b3-6cb7-4bdb-ab74-31907dd62889",
   "metadata": {},
   "outputs": [],
   "source": []
  },
  {
   "cell_type": "code",
   "execution_count": null,
   "id": "c7250cba-c764-4b6a-9fc8-21f6fe681931",
   "metadata": {},
   "outputs": [],
   "source": []
  }
 ],
 "metadata": {
  "kernelspec": {
   "display_name": "Ruby 3.0.2",
   "language": "ruby",
   "name": "ruby"
  },
  "language_info": {
   "file_extension": ".rb",
   "mimetype": "application/x-ruby",
   "name": "ruby",
   "version": "3.0.2"
  }
 },
 "nbformat": 4,
 "nbformat_minor": 5
}
