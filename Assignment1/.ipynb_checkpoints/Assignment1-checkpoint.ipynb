{
 "cells": [
  {
   "cell_type": "code",
   "execution_count": 1,
   "id": "025255b3-308f-4923-b593-229b773e7dc6",
   "metadata": {},
   "outputs": [
    {
     "data": {
      "text/plain": [
       "true"
      ]
     },
     "execution_count": 1,
     "metadata": {},
     "output_type": "execute_result"
    }
   ],
   "source": [
    "# Import the other Classes used in the main script\n",
    "require './Gene.rb'\n",
    "require './HybridCross.rb'\n",
    "require './SeedStock.rb'\n",
    "require './StockDatabase.rb'"
   ]
  },
  {
   "cell_type": "code",
   "execution_count": 2,
   "id": "095493dd-cd46-4625-ac97-5ceeca761c9e",
   "metadata": {},
   "outputs": [
    {
     "data": {
      "text/plain": [
       "\"new_stock_file.tsv\""
      ]
     },
     "execution_count": 2,
     "metadata": {},
     "output_type": "execute_result"
    }
   ],
   "source": [
    "# Global variables\n",
    "$STOCK_FILE = './seed_stock_data.tsv'\n",
    "$CROSS_FILE = './cross_data.tsv'\n",
    "$GENE_FILE = './gene_information.tsv'\n",
    "$OUTPUT_FILE = 'new_stock_file.tsv'"
   ]
  },
  {
   "cell_type": "code",
   "execution_count": 3,
   "id": "671d7d62-8584-4308-92ae-a0a029f99939",
   "metadata": {},
   "outputs": [
    {
     "name": "stdout",
     "output_type": "stream",
     "text": [
      "WARNING: we have run out of Seed Stock A51\n",
      "WARNING: we have run out of Seed Stock B52\n"
     ]
    },
    {
     "data": {
      "text/plain": [
       "{\"A334\"=>#<SeedStock:0x00000001339064e0 @seed_stock_id=\"A334\", @mutant_gene_id=\"AT1G69120\", @last_planted=\"5/7/2014\", @storage=\"cama2\", @grams_remaining=21>, \"A348\"=>#<SeedStock:0x0000000133904f00 @seed_stock_id=\"A348\", @mutant_gene_id=\"AT4G36920\", @last_planted=\"3/11/2013\", @storage=\"cama25\", @grams_remaining=5>, \"B3334\"=>#<SeedStock:0x0000000133904460 @seed_stock_id=\"B3334\", @mutant_gene_id=\"AT3G54340\", @last_planted=\"1/12/2014\", @storage=\"cama18\", @grams_remaining=15>, \"A51\"=>#<SeedStock:0x00000001338fde80 @seed_stock_id=\"A51\", @mutant_gene_id=\"AT1G30950\", @last_planted=\"9/2/2013\", @storage=\"cama25\", @grams_remaining=0>, \"B52\"=>#<SeedStock:0x00000001338f77b0 @seed_stock_id=\"B52\", @mutant_gene_id=\"AT5G20240\", @last_planted=\"8/11/2012\", @storage=\"cama16\", @grams_remaining=0>}"
      ]
     },
     "execution_count": 3,
     "metadata": {},
     "output_type": "execute_result"
    }
   ],
   "source": [
    "### TASK 1\n",
    "# Create a new seed stock database\n",
    "database = StockDatabase.new\n",
    "\n",
    "# Fill database with tsv file stock data\n",
    "database.load_from_file($STOCK_FILE) # BONUS\n",
    "\n",
    "# Simulate planting 7 grams of seed from the stock database\n",
    "database.plant_seed(7) # BONUS\n",
    "\n",
    "# Write the updated database to a new tsv file\n",
    "database.write_database($OUTPUT_FILE) # BONUS"
   ]
  },
  {
   "cell_type": "code",
   "execution_count": 4,
   "id": "c64b80e2-e6e8-4024-813e-b542d77b48ed",
   "metadata": {},
   "outputs": [],
   "source": [
    "## Prepare database for TASK 2\n",
    "# Add Gene data information to the stock database\n",
    "# Read the gene file line by line\n",
    "IO.foreach($GENE_FILE, $/).with_index { |record,line_number| \n",
    "\t# Skip header line\n",
    "\tif line_number > 0 then\n",
    "\n",
    "\t    # Split line values by the tab\n",
    "\t    line = record.split(\"\\t\") \n",
    "\n",
    "\t    # Go though each field of the line\n",
    "\t    gene_id = line[0] # First field is gene ID\n",
    "\t    gene_name = line[1] # Second field is the gene name\n",
    "\t    mutant_phenotype = line[2] # Third field is the description of the mutant phenotype\n",
    "\t    \n",
    "\t    # Create a Gene class for every record \n",
    "\t    new_gene = Gene.new(gene_id: gene_id,\n",
    "\t\t\t\t\t    \tgene_name: gene_name,\n",
    "\t\t\t\t\t    \tmutant_phenotype: mutant_phenotype)\n",
    "\n",
    "\t    # Assign the Gene Object to the corresponding stock record (Where Gene ID is the same)\n",
    "\t    database.get_seed_stock_by_gene_id(gene_id).gene = new_gene\n",
    "\tend\n",
    "}"
   ]
  },
  {
   "cell_type": "code",
   "execution_count": 5,
   "id": "a4268686-9bb1-4910-9fb1-805ee18561f2",
   "metadata": {},
   "outputs": [
    {
     "name": "stdout",
     "output_type": "stream",
     "text": [
      "Recording: ufo is genetically linked to pi with chisquare score 32.27942794279428\n"
     ]
    },
    {
     "data": {
      "text/plain": [
       "[#<HybridCross:0x0000000134031968 @parent1_id=\"A334\", @parent2_id=\"A348\", @f2_wild=110, @f2_p1=33, @f2_p2=38, @f2_p1p2=11, @parent1=#<Gene:0x000000013405ac00 @gene_name=\"ap1\", @mutant_phenotype=\"\\\"meristems replace first and second whorl\\\"\\n\", @linked_to=[], @gene_id=\"AT1G69120\">, @parent2=#<Gene:0x0000000134059850 @gene_name=\"ap2\", @mutant_phenotype=\"\\\"first whorl carpels, second whorl stamens\\\"\\n\", @linked_to=[], @gene_id=\"AT4G36920\">, @total_f2=192>, #<HybridCross:0x0000000134030018 @parent1_id=\"A348\", @parent2_id=\"B3334\", @f2_wild=80, @f2_p1=26, @f2_p2=29, @f2_p1p2=8, @parent1=#<Gene:0x0000000134059850 @gene_name=\"ap2\", @mutant_phenotype=\"\\\"first whorl carpels, second whorl stamens\\\"\\n\", @linked_to=[], @gene_id=\"AT4G36920\">, @parent2=#<Gene:0x0000000134058d10 @gene_name=\"ap3\", @mutant_phenotype=\"\\\"second whorl sepals, third whorl carpels\\\"\\n\", @linked_to=[], @gene_id=\"AT3G54340\">, @total_f2=143>, #<HybridCross:0x000000013402ba68 @parent1_id=\"B3334\", @parent2_id=\"A51\", @f2_wild=99, @f2_p1=36, @f2_p2=34, @f2_p1p2=12, @parent1=#<Gene:0x0000000134058d10 @gene_name=\"ap3\", @mutant_phenotype=\"\\\"second whorl sepals, third whorl carpels\\\"\\n\", @linked_to=[], @gene_id=\"AT3G54340\">, @parent2=#<Gene:0x00000001340586a8 @gene_name=\"ufo\", @mutant_phenotype=\"\\\"second whorl sepaloidy, third whorl missing or carpeloid\\\"\\n\", @linked_to=[#<Gene:0x0000000134053ef0 @gene_name=\"pi\", @mutant_phenotype=\"\\\"second whorl sepals, third whorl carpels\\\"\\n\", @linked_to=[#<Gene:0x00000001340586a8 ...>], @gene_id=\"AT5G20240\">], @gene_id=\"AT1G30950\">, @total_f2=181>, #<HybridCross:0x000000013402b338 @parent1_id=\"A51\", @parent2_id=\"B52\", @f2_wild=152, @f2_p1=26, @f2_p2=22, @f2_p1p2=2, @parent1=#<Gene:0x00000001340586a8 @gene_name=\"ufo\", @mutant_phenotype=\"\\\"second whorl sepaloidy, third whorl missing or carpeloid\\\"\\n\", @linked_to=[#<Gene:0x0000000134053ef0 @gene_name=\"pi\", @mutant_phenotype=\"\\\"second whorl sepals, third whorl carpels\\\"\\n\", @linked_to=[#<Gene:0x00000001340586a8 ...>], @gene_id=\"AT5G20240\">], @gene_id=\"AT1G30950\">, @parent2=#<Gene:0x0000000134053ef0 @gene_name=\"pi\", @mutant_phenotype=\"\\\"second whorl sepals, third whorl carpels\\\"\\n\", @linked_to=[#<Gene:0x00000001340586a8 @gene_name=\"ufo\", @mutant_phenotype=\"\\\"second whorl sepaloidy, third whorl missing or carpeloid\\\"\\n\", @linked_to=[#<Gene:0x0000000134053ef0 ...>], @gene_id=\"AT1G30950\">], @gene_id=\"AT5G20240\">, @total_f2=202>, #<HybridCross:0x000000013402ad20 @parent1_id=\"B52\", @parent2_id=\"A334\", @f2_wild=75, @f2_p1=22, @f2_p2=30, @f2_p1p2=7, @parent1=#<Gene:0x0000000134053ef0 @gene_name=\"pi\", @mutant_phenotype=\"\\\"second whorl sepals, third whorl carpels\\\"\\n\", @linked_to=[#<Gene:0x00000001340586a8 @gene_name=\"ufo\", @mutant_phenotype=\"\\\"second whorl sepaloidy, third whorl missing or carpeloid\\\"\\n\", @linked_to=[#<Gene:0x0000000134053ef0 ...>], @gene_id=\"AT1G30950\">], @gene_id=\"AT5G20240\">, @parent2=#<Gene:0x000000013405ac00 @gene_name=\"ap1\", @mutant_phenotype=\"\\\"meristems replace first and second whorl\\\"\\n\", @linked_to=[], @gene_id=\"AT1G69120\">, @total_f2=134>]"
      ]
     },
     "execution_count": 5,
     "metadata": {},
     "output_type": "execute_result"
    }
   ],
   "source": [
    "### TASK 2\n",
    "\n",
    "# Create a Data Structure that has the seed cross data\n",
    "cross_data = Array.new\n",
    "\n",
    "#Read cross data and iterate every line\n",
    "IO.foreach($CROSS_FILE, $/).with_index { |record, line_number|\n",
    "\t# Skip header line\n",
    "\tif line_number > 0 then\n",
    "\t\t# Split line values by the tab\n",
    "        line = record.split(\"\\t\") \n",
    "\n",
    "        # Go though each field of the line\n",
    "        parent1_id = line[0]\n",
    "        parent2_id = line[1]\n",
    "        f2_wild = line[2]\n",
    "        f2_p1 = line[3]\n",
    "        f2_p2 = line[4]\n",
    "        f2_p1p2 = line[5]\n",
    "        \n",
    "        # Create a HybridCross class for every record \n",
    "        # and store it in cross_data array\n",
    "        cross_data << HybridCross.new(\n",
    "        \tparent1_id: parent1_id,\n",
    "        \tparent2_id: parent2_id,\n",
    "        \tparent1: database.get_seed_stock(parent1_id).gene,\n",
    "        \tparent2: database.get_seed_stock(parent2_id).gene,\n",
    "        \tf2_wild: f2_wild.to_i,\n",
    "        \tf2_p1: f2_p1.to_i,\n",
    "        \tf2_p2: f2_p2.to_i,\n",
    "        \tf2_p1p2: f2_p1p2.to_i\n",
    "        \t)\n",
    "\tend\n",
    "}\n",
    "\n",
    "# Test chi_square on hybrid cross data\n",
    "\n",
    "# Go through each HybridCross to perform a Chi Square test\n",
    "cross_data.each {|h_cross|\n",
    "\n",
    "\t# Make the chi Square test on each cross\n",
    "\tx_2 = h_cross.chi_square\n",
    "\n",
    "\t# Degrees of freedom is 3\n",
    "\t# For p value = 0.05, the Chi-square dist is 7.815\n",
    "\tif x_2 > 7.815 then\n",
    "\t\t# Case where p value < 0.05, there is statistical significance\n",
    "\t\t# meaning the genes are linked\n",
    "\n",
    "\t\t# Access the gene data structure with each key\n",
    "\t\t# And assign the other gene to the linked_to property\n",
    "\t\th_cross.parent1.linked_to = h_cross.parent2\n",
    "\t\th_cross.parent2.linked_to = h_cross.parent1\n",
    "\t\tputs \"Recording: #{h_cross.parent1.gene_name} is genetically linked to #{h_cross.parent2.gene_name} with chisquare score #{h_cross.chi_square.to_s}\"\n",
    "\tend\n",
    "\n",
    "}"
   ]
  },
  {
   "cell_type": "code",
   "execution_count": 6,
   "id": "4fccbb7a-43ad-48d7-b4c8-79ddb455abf4",
   "metadata": {},
   "outputs": [
    {
     "name": "stdout",
     "output_type": "stream",
     "text": [
      "Final Report:\n",
      "ufo is linked to pi\n",
      "pi is linked to ufo\n",
      "\n"
     ]
    }
   ],
   "source": [
    "# Print a final report with the linked genes\n",
    "puts \"Final Report:\"\n",
    "\n",
    "database.stock_data.each_value { |stock|\n",
    "\n",
    "\t# Retrieve the gene of each stock\n",
    "\tgene = stock.gene\n",
    "\n",
    "\t# The property linked_to is empty if genes are not linked,\n",
    "\t# Skip empty linked_to\n",
    "\tunless gene.linked_to.empty?\n",
    "\t\t# Print statement of linked genes\n",
    "\t\tputs \"#{gene.gene_name} is linked to #{gene.linked_to[0].gene_name}\"\n",
    "\tend\n",
    "}\n",
    "puts"
   ]
  },
  {
   "cell_type": "code",
   "execution_count": 7,
   "id": "c7250cba-c764-4b6a-9fc8-21f6fe681931",
   "metadata": {},
   "outputs": [
    {
     "name": "stdout",
     "output_type": "stream",
     "text": [
      "--------------------\n",
      "\n",
      "BONUS\n",
      "Testing that the Gene class accepts correct Gene ID\n",
      "The Gene ID AT1G69120A is not valid\n",
      "\n",
      "Retrieve seed stock by its ID in database\n",
      "A348\n"
     ]
    }
   ],
   "source": [
    "# Bonus code\n",
    "puts '-'*20\n",
    "puts\n",
    "puts 'BONUS'\n",
    "puts 'Testing that the Gene class accepts correct Gene ID'\n",
    "\n",
    "Gene.new(\n",
    "\tgene_id: 'AT1G69120A', # Wrong gene ID\n",
    "    gene_name: 'ap1',\n",
    "    mutant_phenotype: \"meristems replace first and second whorl\")\n",
    "\n",
    "puts\n",
    "#method to get a seed stock record by ID\n",
    "puts 'Retrieve seed stock by its ID in database'\n",
    "puts database.get_seed_stock('A348').seed_stock_id"
   ]
  }
 ],
 "metadata": {
  "kernelspec": {
   "display_name": "Ruby 3.0.2",
   "language": "ruby",
   "name": "ruby"
  },
  "language_info": {
   "file_extension": ".rb",
   "mimetype": "application/x-ruby",
   "name": "ruby",
   "version": "3.0.2"
  }
 },
 "nbformat": 4,
 "nbformat_minor": 5
}
