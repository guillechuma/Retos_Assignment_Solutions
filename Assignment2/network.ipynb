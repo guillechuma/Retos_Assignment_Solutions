{
 "cells": [
  {
   "cell_type": "code",
   "execution_count": 3,
   "metadata": {},
   "outputs": [
    {
     "data": {
      "text/plain": [
       ":fetch"
      ]
     },
     "execution_count": 3,
     "metadata": {},
     "output_type": "execute_result"
    }
   ],
   "source": [
    "# Create a function called \"fetch\" that we can re-use everywhere in our code\n",
    "\n",
    "def fetch(url, headers = {accept: \"*/*\"}, user = \"\", pass=\"\")\n",
    "    response = RestClient::Request.execute({\n",
    "      method: :get,\n",
    "      url: url.to_s,\n",
    "      user: user,\n",
    "      password: pass,\n",
    "      headers: headers})\n",
    "    return response\n",
    "    \n",
    "      # IF there is a problem, you pass the error condition\n",
    "    rescue RestClient::ExceptionWithResponse => e\n",
    "      $stderr.puts e.inspect\n",
    "      response = false\n",
    "      return response  # now we are returning 'False', and we will check that with an \\\"if\\\" statement in our main code\n",
    "    rescue RestClient::Exception => e\n",
    "      $stderr.puts e.inspect\n",
    "      response = false\n",
    "      return response  # now we are returning 'False', and we will check that with an \\\"if\\\" statement in our main code\n",
    "    \n",
    "      # This is everything\n",
    "    rescue Exception => e\n",
    "      $stderr.puts e.inspect\n",
    "      response = false\n",
    "      return response  # now we are returning 'False', and we will check that with an \\\"if\\\" statement in our main code\n",
    "  end "
   ]
  },
  {
   "cell_type": "code",
   "execution_count": 4,
   "metadata": {},
   "outputs": [
    {
     "data": {
      "text/plain": [
       "[[\"GO:0009941\", \"C:chloroplast envelope\", \"IDA:TAIR\"], [\"GO:0009534\", \"C:chloroplast thylakoid\", \"IDA:TAIR\"], [\"GO:0009535\", \"C:chloroplast thylakoid membrane\", \"IDA:TAIR\"], [\"GO:0005576\", \"C:extracellular region\", \"HDA:TAIR\"], [\"GO:0009538\", \"C:photosystem I reaction center\", \"IEA:InterPro\"], [\"GO:0009579\", \"C:thylakoid\", \"IDA:TAIR\"], [\"GO:0003729\", \"F:mRNA binding\", \"IDA:TAIR\"], [\"GO:0019904\", \"F:protein domain specific binding\", \"IPI:CAFA\"], [\"GO:0015979\", \"P:photosynthesis\", \"IEA:UniProtKB-KW\"], [\"GO:0016021\", \"C:integral component of membrane\", \"IEA:UniProtKB-KW\"], [\"GO:0005743\", \"C:mitochondrial inner membrane\", \"IEA:UniProtKB-SubCell\"], [\"GO:0009535\", \"C:chloroplast thylakoid membrane\", \"IEA:UniProtKB-SubCell\"], [\"GO:0009538\", \"C:photosystem I reaction center\", \"IEA:InterPro\"], [\"GO:0015979\", \"P:photosynthesis\", \"IEA:UniProtKB-KW\"]]"
      ]
     },
     "execution_count": 4,
     "metadata": {},
     "output_type": "execute_result"
    }
   ],
   "source": [
    "require 'rest-client'\n",
    "require 'json'  # to handle JSON format\n",
    "\n",
    "# JSON is common for passing info. \n",
    "\n",
    "\n",
    "address = 'http://togows.dbcls.jp/entry/uniprot/AT1G03130/dr.json' # dr: cross-references section\n",
    "\n",
    "if response = fetch(address)\n",
    "    data = JSON.parse(response.body)# It turns it into a Ruby DS. A list of lists.\n",
    "\n",
    "    data = data[0]\n",
    "\n",
    "    data[\"GO\"].each do |annotation|\n",
    "\n",
    "        # Filter by experimental evidence. IDA(Direct Assay), IMP (Mutual phenotype)\n",
    "        next unless (annotation[2].match(/^IDA\\:/) or annotation[2].match(/^IMP\\:/) or annotation[2].match(/^IPI\\:/)) and annotation[1].match(/^P\\:(.*)/)\n",
    "        puts annotation[0] + \"\\t\" + $1.to_s\n",
    "        # next unless annotation[2].match(/IDA\\:(.*)/) or annotation[2].match(/IMP\\:(.*)/)\n",
    "        # puts annotation[0] + \"      \" + $1\n",
    "        #puts annotation\n",
    "\n",
    "        # address2 = \"http://rest.kegg.jp/get/ath:AT1G03130/json\"\n",
    "\n",
    "        # if response2 = fetch(address2)\n",
    "        #     data2 = JSON.parse(response2.body)\n",
    "        #     puts data2\n",
    "        # end\n",
    "\n",
    "\n",
    "\n",
    "    end\n",
    "\n",
    "\n",
    "end\n",
    "\n",
    "#puts response.body\n",
    "\n",
    "\n",
    "# data[0] is all of the data as a hash.\n",
    "\n",
    "#puts data[0][\"InterPro\"]\n",
    "\n",
    "# To query the interface itself, \n",
    "\n",
    "\n",
    "# # Take first element on data, ask for InterPro Element (it is the key)\n",
    "# data.each do |d|\n",
    "#     d[\"GO\"].each do |annotation|\n",
    "#         next unless annotation[2].match(/IDA\\:(.*)/) or annotation[2].match(/IMP\\:(.*)/)\n",
    "#         puts annotation[0] + \"      \" + $1\n",
    "#     end\n",
    "# end"
   ]
  },
  {
   "cell_type": "markdown",
   "metadata": {},
   "source": [
    "test GO implementation in Gene object"
   ]
  },
  {
   "cell_type": "code",
   "execution_count": 1,
   "metadata": {},
   "outputs": [
    {
     "data": {
      "text/plain": [
       "#<Gene:0x0000000106de8008 @id=\"AT3G01500\", @go={\"GO:0050832\"=>\"defense response to fungus\", \"GO:0015979\"=>\"photosynthesis\"}, @kegg={\"ath00910\"=>\"Nitrogen metabolism\", \"ath01100\"=>\"Metabolic pathways\"}>"
      ]
     },
     "execution_count": 1,
     "metadata": {},
     "output_type": "execute_result"
    }
   ],
   "source": [
    "require './Gene.rb'\n",
    "\n",
    "gene = Gene.new(id: \"AT3G01500\")\n"
   ]
  },
  {
   "cell_type": "code",
   "execution_count": 9,
   "metadata": {},
   "outputs": [
    {
     "name": "stdout",
     "output_type": "stream",
     "text": [
      "Hash\n"
     ]
    }
   ],
   "source": [
    "require 'rest-client'\n",
    "require 'json'  # to handle JSON format\n",
    "\n",
    "# JSON is common for passing info. \n",
    "\n",
    "\n",
    "address = \"http://togows.org/entry/kegg-genes/ath:AT3G01500/pathways.json\" # kegg-genes\n",
    "\n",
    "if response = fetch(address)\n",
    "    data = JSON.parse(response.body)# It turns it into a Ruby DS. A list of lists.\n",
    "\n",
    "    data = data[0]\n",
    "    return data.class\n",
    "\n",
    "    data[\"KEGG\"].each do |annotation|\n",
    "\n",
    "        # Filter by experimental evidence. IDA(Direct Assay), IMP (Mutual phenotype)\n",
    "        #next unless (annotation[2].match(/IDA\\:/) or annotation[2].match(/^IMP\\:/) or annotation[2].match(/^IPI\\:/)) and annotation[1].match(/^P\\:(.*)/)\n",
    "        puts annotation[0] + \"\\t\" + $1.to_s\n",
    "        # next unless annotation[2].match(/IDA\\:(.*)/) or annotation[2].match(/IMP\\:(.*)/)\n",
    "        # puts annotation[0] + \"      \" + $1\n",
    "        #puts annotation\n",
    "\n",
    "        \n",
    "        address2 = \"http://togows.org/entry/kegg-genes/#{annotation[0]}/pathways.json#\"\n",
    "\n",
    "        if response2 = fetch(address2)\n",
    "            data2 = JSON.parse(response2.body)\n",
    "            puts data2\n",
    "        end\n",
    "    end\n",
    "\n",
    "\n",
    "end\n",
    "\n",
    "#puts response.body\n",
    "\n",
    "\n",
    "# data[0] is all of the data as a hash.\n",
    "\n",
    "#puts data[0][\"InterPro\"]\n",
    "\n",
    "# To query the interface itself, \n",
    "\n",
    "\n",
    "# # Take first element on data, ask for InterPro Element (it is the key)\n",
    "# data.each do |d|\n",
    "#     d[\"GO\"].each do |annotation|\n",
    "#         next unless annotation[2].match(/IDA\\:(.*)/) or annotation[2].match(/IMP\\:(.*)/)\n",
    "#         puts annotation[0] + \"      \" + $1\n",
    "#     end\n",
    "# end"
   ]
  },
  {
   "cell_type": "code",
   "execution_count": 2,
   "metadata": {},
   "outputs": [
    {
     "data": {
      "text/plain": [
       "true"
      ]
     },
     "execution_count": 2,
     "metadata": {},
     "output_type": "execute_result"
    }
   ],
   "source": [
    "require 'rest-client'\n",
    "require './InteractionParser.rb'\n",
    "require './InteractionNetwork.rb'"
   ]
  },
  {
   "cell_type": "code",
   "execution_count": 8,
   "metadata": {},
   "outputs": [
    {
     "data": {
      "text/plain": [
       "#<InteractionParser:0x000000010fbdb388 @locus_id=\"At5g15850\", @interactions=[[\"AT5G15850\", \"AT3G02150\"], [\"AT5G15850\", \"AT3G01140\"], [\"AT5G15850\", \"AT1G26780\"], [\"AT5G15850\", \"AT1G42050\"], [\"AT5G65050\", \"AT5G15850\"], [\"AT5G15850\", \"AT3G07220\"], [\"AT5G23000\", \"AT5G15850\"], [\"AT5G54470\", \"AT5G15850\"], [\"AT5G15850\", \"AT4G38960\"], [\"AT5G15850\", \"AT4G38960\"], [\"AT5G15850\", \"AT1G42050\"], [\"AT5G65050\", \"AT5G15850\"], [\"AT5G15850\", \"AT4G12210\"], [\"AT5G23000\", \"AT5G15850\"], [\"AT5G15850\", \"AT4G10240\"], [\"AT5G15850\", \"AT3G01140\"], [\"AT5G15850\", \"AT3G02150\"], [\"AT5G15850\", \"AT1G08970\"], [\"AT5G15850\", \"AT3G07220\"], [\"AT5G15850\", \"AT2G31380\"], [\"AT5G15850\", \"AT4G12210\"], [\"AT5G15850\", \"AT1G26780\"], [\"AT5G15850\", \"AT4G10240\"], [\"AT5G15850\", \"AT2G31380\"], [\"AT5G27910\", \"AT5G15850\"], [\"AT5G15850\", \"AT1G08970\"], [\"AT5G54470\", \"AT5G15850\"], [\"AT5G15850\", \"AT4G38960\"], [\"AT5G15850\", \"AT4G10240\"], [\"AT5G27910\", \"AT5G15850\"], [\"AT5G15850\", \"AT1G08970\"], [\"AT5G15850\", \"AT2G46340\"], [\"AT2G46340\", \"AT5G15850\"], [\"AT3G15354\", \"AT5G15850\"], [\"AT1G53090\", \"AT5G15850\"], [\"AT5G15850\", \"AT3G15354\"], [\"AT5G15850\", \"AT1G53090\"], [\"AT2G46340\", \"AT5G15850\"], [\"AT2G46340\", \"AT5G15850\"], [\"AT3G15354\", \"AT5G15850\"], [\"AT1G53090\", \"AT5G15850\"], [\"AT2G46340\", \"AT5G15850\"], [\"AT3G15354\", \"AT5G15850\"], [\"AT1G53090\", \"AT5G15850\"], [\"AT2G32950\", \"AT5G15850\"], [\"AT2G32950\", \"AT5G15850\"], [\"AT2G32950\", \"AT5G15850\"], [\"AT5G15850\", \"AT2G32950\"], [\"AT5G15850\", \"AT2G46340\"], [\"AT5G15850\", \"AT3G15354\"], [\"AT5G15850\", \"AT1G53090\"], [\"AT5G15850\", \"AT2G32950\"], [\"AT5G15850\", \"AT2G46340\"], [\"AT5G15850\", \"AT3G15354\"], [\"AT5G15850\", \"AT1G53090\"], [\"AT5G15850\", \"AT2G46340\"], [\"AT5G15850\", \"AT4G11110\"], [\"AT5G15850\", \"AT3G15354\"], [\"AT1G53090\", \"AT5G15850\"], [\"AT5G15850\", \"AT2G46340\"], [\"AT2G46340\", \"AT5G15850\"]]>"
      ]
     },
     "execution_count": 8,
     "metadata": {},
     "output_type": "execute_result"
    }
   ],
   "source": [
    "gene_file = 'ArabidopsisSubNetwork_GeneList.txt'\n",
    "locus_tag = \"At5g15850\"\n",
    "parser = InteractionParser.new(locus_id: locus_tag)"
   ]
  },
  {
   "cell_type": "code",
   "execution_count": 1,
   "metadata": {},
   "outputs": [
    {
     "name": "stdout",
     "output_type": "stream",
     "text": [
      "Creating network\n",
      "(AT1G26830=AT4G37610)(AT1G31880=AT1G14280)(AT1G31880=AT1G76080)(AT1G37130=AT1G31880)(AT1G60250=AT1G71030)(AT2G46340=AT1G53090)(AT2G46340=AT2G32950)(AT3G01500=AT5G42980)(AT3G07220=AT5G15850)(AT3G15030=AT5G17300)(AT3G15354=AT2G46340)(AT3G48360=AT1G26830)(AT4G02770=AT1G31880)(AT4G09650=AT4G32570)(AT4G09650=AT4G37260)(AT4G17460=AT3G07220)(AT4G17460=AT3G15030)(AT4G32570=AT1G37130)(AT4G37260=AT1G03130)(AT4G37260=AT4G02770)(AT5G15850=AT1G53090)(AT5G15850=AT2G32950)(AT5G15850=AT3G02150)(AT5G15850=AT3G15354)(AT5G17300=AT1G60250)(AT5G17300=AT3G02150)(AT5G42980=AT2G39730)(AT5G42980=AT3G50820)(AT5G42980=AT3G55800)(AT5G42980=AT3G62410)(AT5G42980=AT5G14740)(AT5G42980=AT5G35630)\n",
      "\n",
      "program finished\n"
     ]
    }
   ],
   "source": [
    "require 'rest-client'\n",
    "require './InteractionParser.rb'\n",
    "require './InteractionNetwork'\n",
    "def fetch(url, headers = {accept: \"*/*\"}, user = \"\", pass=\"\")\n",
    "  response = RestClient::Request.execute({\n",
    "    method: :get,\n",
    "    url: url.to_s,\n",
    "    user: user,\n",
    "    password: pass,\n",
    "    headers: headers})\n",
    "  return response\n",
    "  \n",
    "  rescue RestClient::ExceptionWithResponse => e\n",
    "    $stderr.puts e.inspect\n",
    "    response = false\n",
    "    return response  # now we are returning 'False', and we will check that with an \\\"if\\\" statement in our main code\n",
    "  rescue RestClient::Exception => e\n",
    "    $stderr.puts e.inspect\n",
    "    response = false\n",
    "    return response  # now we are returning 'False', and we will check that with an \\\"if\\\" statement in our main code\n",
    "  rescue Exception => e\n",
    "    $stderr.puts e.inspect\n",
    "    response = false\n",
    "    return response  # now we are returning 'False', and we will check that with an \\\"if\\\" statement in our main code\n",
    "end\n",
    "\n",
    "gene_file = 'ArabidopsisSubNetwork_GeneList.txt'\n",
    "\n",
    "puts 'Creating network'\n",
    "\n",
    "network = InteractionNetwork.new(gene_file: gene_file)\n",
    "\n",
    "puts network.all_networks\n",
    "puts \"\\n\"\n",
    "\n",
    "puts 'program finished'"
   ]
  },
  {
   "cell_type": "markdown",
   "metadata": {},
   "source": [
    "network"
   ]
  },
  {
   "cell_type": "code",
   "execution_count": 2,
   "metadata": {},
   "outputs": [
    {
     "name": "stdout",
     "output_type": "stream",
     "text": [
      "graph RGL__AdjacencyGraph {\n",
      "    AT4G09650 [\n",
      "        fontsize = 8,\n",
      "        label = AT4G09650\n",
      "    ]\n",
      "\n",
      "    AT4G37260 [\n",
      "        fontsize = 8,\n",
      "        label = AT4G37260\n",
      "    ]\n",
      "\n",
      "    AT1G03130 [\n",
      "        fontsize = 8,\n",
      "        label = AT1G03130\n",
      "    ]\n",
      "\n",
      "    AT4G02770 [\n",
      "        fontsize = 8,\n",
      "        label = AT4G02770\n",
      "    ]\n",
      "\n",
      "    AT4G32570 [\n",
      "        fontsize = 8,\n",
      "        label = AT4G32570\n",
      "    ]\n",
      "\n",
      "    AT1G37130 [\n",
      "        fontsize = 8,\n",
      "        label = AT1G37130\n",
      "    ]\n",
      "\n",
      "    AT4G17460 [\n",
      "        fontsize = 8,\n",
      "        label = AT4G17460\n",
      "    ]\n",
      "\n",
      "    AT3G07220 [\n",
      "        fontsize = 8,\n",
      "        label = AT3G07220\n",
      "    ]\n",
      "\n",
      "    AT5G15850 [\n",
      "        fontsize = 8,\n",
      "        label = AT5G15850\n",
      "    ]\n",
      "\n",
      "    AT3G15030 [\n",
      "        fontsize = 8,\n",
      "        label = AT3G15030\n",
      "    ]\n",
      "\n",
      "    AT5G17300 [\n",
      "        fontsize = 8,\n",
      "        label = AT5G17300\n",
      "    ]\n",
      "\n",
      "    AT1G31880 [\n",
      "        fontsize = 8,\n",
      "        label = AT1G31880\n",
      "    ]\n",
      "\n",
      "    AT1G14280 [\n",
      "        fontsize = 8,\n",
      "        label = AT1G14280\n",
      "    ]\n",
      "\n",
      "    AT1G76080 [\n",
      "        fontsize = 8,\n",
      "        label = AT1G76080\n",
      "    ]\n",
      "\n",
      "    AT3G01500 [\n",
      "        fontsize = 8,\n",
      "        label = AT3G01500\n",
      "    ]\n",
      "\n",
      "    AT5G42980 [\n",
      "        fontsize = 8,\n",
      "        label = AT5G42980\n",
      "    ]\n",
      "\n",
      "    AT2G39730 [\n",
      "        fontsize = 8,\n",
      "        label = AT2G39730\n",
      "    ]\n",
      "\n",
      "    AT3G55800 [\n",
      "        fontsize = 8,\n",
      "        label = AT3G55800\n",
      "    ]\n",
      "\n",
      "    AT3G62410 [\n",
      "        fontsize = 8,\n",
      "        label = AT3G62410\n",
      "    ]\n",
      "\n",
      "    AT5G35630 [\n",
      "        fontsize = 8,\n",
      "        label = AT5G35630\n",
      "    ]\n",
      "\n",
      "    AT3G50820 [\n",
      "        fontsize = 8,\n",
      "        label = AT3G50820\n",
      "    ]\n",
      "\n",
      "    AT5G14740 [\n",
      "        fontsize = 8,\n",
      "        label = AT5G14740\n",
      "    ]\n",
      "\n",
      "    AT3G02150 [\n",
      "        fontsize = 8,\n",
      "        label = AT3G02150\n",
      "    ]\n",
      "\n",
      "    AT3G15354 [\n",
      "        fontsize = 8,\n",
      "        label = AT3G15354\n",
      "    ]\n",
      "\n",
      "    AT2G46340 [\n",
      "        fontsize = 8,\n",
      "        label = AT2G46340\n",
      "    ]\n",
      "\n",
      "    AT1G53090 [\n",
      "        fontsize = 8,\n",
      "        label = AT1G53090\n",
      "    ]\n",
      "\n",
      "    AT2G32950 [\n",
      "        fontsize = 8,\n",
      "        label = AT2G32950\n",
      "    ]\n",
      "\n",
      "    AT1G60250 [\n",
      "        fontsize = 8,\n",
      "        label = AT1G60250\n",
      "    ]\n",
      "\n",
      "    AT1G71030 [\n",
      "        fontsize = 8,\n",
      "        label = AT1G71030\n",
      "    ]\n",
      "\n",
      "    AT3G48360 [\n",
      "        fontsize = 8,\n",
      "        label = AT3G48360\n",
      "    ]\n",
      "\n",
      "    AT1G26830 [\n",
      "        fontsize = 8,\n",
      "        label = AT1G26830\n",
      "    ]\n",
      "\n",
      "    AT4G37610 [\n",
      "        fontsize = 8,\n",
      "        label = AT4G37610\n",
      "    ]\n",
      "\n",
      "    AT4G09650 -- AT4G37260 [\n",
      "        fontsize = 8\n",
      "    ]\n",
      "\n",
      "    AT4G09650 -- AT4G32570 [\n",
      "        fontsize = 8\n",
      "    ]\n",
      "\n",
      "    AT4G37260 -- AT1G03130 [\n",
      "        fontsize = 8\n",
      "    ]\n",
      "\n",
      "    AT4G37260 -- AT4G02770 [\n",
      "        fontsize = 8\n",
      "    ]\n",
      "\n",
      "    AT4G02770 -- AT1G31880 [\n",
      "        fontsize = 8\n",
      "    ]\n",
      "\n",
      "    AT4G32570 -- AT1G37130 [\n",
      "        fontsize = 8\n",
      "    ]\n",
      "\n",
      "    AT1G37130 -- AT1G31880 [\n",
      "        fontsize = 8\n",
      "    ]\n",
      "\n",
      "    AT4G17460 -- AT3G07220 [\n",
      "        fontsize = 8\n",
      "    ]\n",
      "\n",
      "    AT4G17460 -- AT3G15030 [\n",
      "        fontsize = 8\n",
      "    ]\n",
      "\n",
      "    AT3G07220 -- AT5G15850 [\n",
      "        fontsize = 8\n",
      "    ]\n",
      "\n",
      "    AT5G15850 -- AT3G02150 [\n",
      "        fontsize = 8\n",
      "    ]\n",
      "\n",
      "    AT5G15850 -- AT3G15354 [\n",
      "        fontsize = 8\n",
      "    ]\n",
      "\n",
      "    AT5G15850 -- AT1G53090 [\n",
      "        fontsize = 8\n",
      "    ]\n",
      "\n",
      "    AT5G15850 -- AT2G32950 [\n",
      "        fontsize = 8\n",
      "    ]\n",
      "\n",
      "    AT3G15030 -- AT5G17300 [\n",
      "        fontsize = 8\n",
      "    ]\n",
      "\n",
      "    AT5G17300 -- AT3G02150 [\n",
      "        fontsize = 8\n",
      "    ]\n",
      "\n",
      "    AT5G17300 -- AT1G60250 [\n",
      "        fontsize = 8\n",
      "    ]\n",
      "\n",
      "    AT1G31880 -- AT1G14280 [\n",
      "        fontsize = 8\n",
      "    ]\n",
      "\n",
      "    AT1G31880 -- AT1G76080 [\n",
      "        fontsize = 8\n",
      "    ]\n",
      "\n",
      "    AT3G01500 -- AT5G42980 [\n",
      "        fontsize = 8\n",
      "    ]\n",
      "\n",
      "    AT5G42980 -- AT2G39730 [\n",
      "        fontsize = 8\n",
      "    ]\n",
      "\n",
      "    AT5G42980 -- AT3G55800 [\n",
      "        fontsize = 8\n",
      "    ]\n",
      "\n",
      "    AT5G42980 -- AT3G62410 [\n",
      "        fontsize = 8\n",
      "    ]\n",
      "\n",
      "    AT5G42980 -- AT5G35630 [\n",
      "        fontsize = 8\n",
      "    ]\n",
      "\n",
      "    AT5G42980 -- AT3G50820 [\n",
      "        fontsize = 8\n",
      "    ]\n",
      "\n",
      "    AT5G42980 -- AT5G14740 [\n",
      "        fontsize = 8\n",
      "    ]\n",
      "\n",
      "    AT3G15354 -- AT2G46340 [\n",
      "        fontsize = 8\n",
      "    ]\n",
      "\n",
      "    AT2G46340 -- AT1G53090 [\n",
      "        fontsize = 8\n",
      "    ]\n",
      "\n",
      "    AT2G46340 -- AT2G32950 [\n",
      "        fontsize = 8\n",
      "    ]\n",
      "\n",
      "    AT1G60250 -- AT1G71030 [\n",
      "        fontsize = 8\n",
      "    ]\n",
      "\n",
      "    AT3G48360 -- AT1G26830 [\n",
      "        fontsize = 8\n",
      "    ]\n",
      "\n",
      "    AT1G26830 -- AT4G37610 [\n",
      "        fontsize = 8\n",
      "    ]\n",
      "}"
     ]
    },
    {
     "ename": "NoMethodError",
     "evalue": "undefined method `<<' for nil:NilClass",
     "output_type": "error",
     "traceback": [
      "\u001b[31mNoMethodError\u001b[0m: undefined method `<<' for nil:NilClass",
      "/opt/homebrew/lib/ruby/gems/3.0.0/gems/rgl-0.5.7/lib/rgl/dot.rb:67:in `print_dotted_on'",
      "/Users/guillechuma/Desktop/UPM/bioinfo_prog/Retos_Assignment_Solutions/Assignment2/InteractionNetwork.rb:63:in `save_network'",
      "(irb):in `<main>'"
     ]
    }
   ],
   "source": [
    "network.save_network"
   ]
  },
  {
   "cell_type": "code",
   "execution_count": 2,
   "metadata": {},
   "outputs": [
    {
     "data": {
      "text/plain": [
       "13"
      ]
     },
     "execution_count": 2,
     "metadata": {},
     "output_type": "execute_result"
    }
   ],
   "source": [
    "network.create_report(\"test_report.txt\")"
   ]
  },
  {
   "cell_type": "code",
   "execution_count": 33,
   "metadata": {},
   "outputs": [
    {
     "name": "stdout",
     "output_type": "stream",
     "text": [
      "{\"GO:0048825\"=>\"cotyledon development\", \"GO:0009793\"=>\"embryo development ending in seed dormancy\"}\n",
      "{\"GO:0009734\"=>\"auxin-activated signaling pathway\", \"GO:0010600\"=>\"regulation of auxin biosynthetic process\"}\n",
      "{\"GO:0009718\"=>\"anthocyanin-containing compound biosynthetic process\", \"GO:0010023\"=>\"proanthocyanidin biosynthetic process\"}\n",
      "{\"GO:0031347\"=>\"regulation of defense response\"}\n",
      "{\"GO:0009909\"=>\"regulation of flower development\"}\n",
      "{\"GO:0009637\"=>\"response to blue light\"}\n",
      "{\"GO:0009658\"=>\"chloroplast organization\", \"GO:0010100\"=>\"negative regulation of photomorphogenesis\", \"GO:0009640\"=>\"photomorphogenesis\", \"GO:0010017\"=>\"red or far-red light signaling pathway\", \"GO:2000028\"=>\"regulation of photoperiodism, flowering\", \"GO:0009637\"=>\"response to blue light\", \"GO:0048575\"=>\"short-day photoperiodism, flowering\"}\n",
      "{\"GO:0046283\"=>\"anthocyanin-containing compound metabolic process\", \"GO:0006281\"=>\"DNA repair\", \"GO:0009649\"=>\"entrainment of circadian clock\", \"GO:0048573\"=>\"photoperiodism, flowering\", \"GO:0010119\"=>\"regulation of stomatal movement\", \"GO:0009641\"=>\"shade avoidance\"}\n",
      "{\"GO:0006338\"=>\"chromatin remodeling\", \"GO:0048638\"=>\"regulation of developmental growth\", \"GO:0080086\"=>\"stamen filament development\"}\n",
      "-\n"
     ]
    },
    {
     "data": {
      "text/plain": [
       "{\"GO:0048825\"=>\"cotyledon development\", \"GO:0009793\"=>\"embryo development ending in seed dormancy\", \"GO:0009734\"=>\"auxin-activated signaling pathway\", \"GO:0010600\"=>\"regulation of auxin biosynthetic process\", \"GO:0009718\"=>\"anthocyanin-containing compound biosynthetic process\", \"GO:0010023\"=>\"proanthocyanidin biosynthetic process\", \"GO:0031347\"=>\"regulation of defense response\", \"GO:0009909\"=>\"regulation of flower development\", \"GO:0009637\"=>\"response to blue light\", \"GO:0009658\"=>\"chloroplast organization\", \"GO:0010100\"=>\"negative regulation of photomorphogenesis\", \"GO:0009640\"=>\"photomorphogenesis\", \"GO:0010017\"=>\"red or far-red light signaling pathway\", \"GO:2000028\"=>\"regulation of photoperiodism, flowering\", \"GO:0048575\"=>\"short-day photoperiodism, flowering\", \"GO:0046283\"=>\"anthocyanin-containing compound metabolic process\", \"GO:0006281\"=>\"DNA repair\", \"GO:0009649\"=>\"entrainment of circadian clock\", \"GO:0048573\"=>\"photoperiodism, flowering\", \"GO:0010119\"=>\"regulation of stomatal movement\", \"GO:0009641\"=>\"shade avoidance\", \"GO:0006338\"=>\"chromatin remodeling\", \"GO:0048638\"=>\"regulation of developmental growth\", \"GO:0080086\"=>\"stamen filament development\"}"
      ]
     },
     "execution_count": 33,
     "metadata": {},
     "output_type": "execute_result"
    }
   ],
   "source": [
    "net_go = Hash.new\n",
    "network.network_list[1].vertices.each do |gene|\n",
    "    puts gene.go unless gene.go.empty?\n",
    "    net_go = net_go.merge(gene.go) unless gene.go.empty?\n",
    "end\n",
    "puts '-'\n",
    "net_go"
   ]
  },
  {
   "cell_type": "code",
   "execution_count": 9,
   "metadata": {},
   "outputs": [
    {
     "data": {
      "text/plain": [
       "14"
      ]
     },
     "execution_count": 9,
     "metadata": {},
     "output_type": "execute_result"
    }
   ],
   "source": [
    "network.network_list[1].edges.length"
   ]
  },
  {
   "cell_type": "code",
   "execution_count": 92,
   "metadata": {},
   "outputs": [
    {
     "name": "stdout",
     "output_type": "stream",
     "text": [
      "-\n",
      "Gene\n",
      ".\n",
      "Gene\n",
      "-\n",
      "-\n",
      "Gene\n",
      ".\n",
      "Gene\n",
      "-\n",
      "-\n",
      "Gene\n",
      ".\n",
      "Gene\n",
      "-\n",
      "-\n",
      "Gene\n",
      ".\n",
      "Gene\n",
      "-\n",
      "-\n",
      "Gene\n",
      ".\n",
      "Gene\n",
      "-\n",
      "-\n",
      "Gene\n",
      ".\n",
      "Gene\n",
      "-\n",
      "-\n",
      "Gene\n",
      ".\n",
      "Gene\n",
      "-\n",
      "-\n",
      "Gene\n",
      ".\n",
      "Gene\n",
      "-\n",
      "-\n",
      "Gene\n",
      ".\n",
      "Gene\n",
      "-\n"
     ]
    },
    {
     "data": {
      "text/plain": [
       "[#<Gene:0x000000013aa363b8 @id=\"AT1G03130\", @go={}, @kegg={\"ath00195\"=>\"Photosynthesis\", \"ath01100\"=>\"Metabolic pathways\"}>, #<Gene:0x000000010708f5b8 @id=\"AT4G32570\", @go={}, @kegg={}>, #<Gene:0x000000011f86a888 @id=\"AT1G37130\", @go={\"GO:0042128\"=>\"nitrate assimilation\", \"GO:0006809\"=>\"nitric oxide biosynthetic process\", \"GO:0009416\"=>\"response to light stimulus\"}, @kegg={\"ath00910\"=>\"Nitrogen metabolism\", \"ath01100\"=>\"Metabolic pathways\"}>, #<Gene:0x000000013ac4a370 @id=\"AT1G14280\", @go={\"GO:0048366\"=>\"leaf development\"}, @kegg={}>, #<Gene:0x0000000128070070 @id=\"AT1G76080\", @go={\"GO:0045454\"=>\"cell redox homeostasis\"}, @kegg={}>, #<Gene:0x000000013acb40e0 @id=\"AT1G31880\", @go={\"GO:0009734\"=>\"auxin-activated signaling pathway\", \"GO:0030154\"=>\"cell differentiation\", \"GO:0009736\"=>\"cytokinin-activated signaling pathway\", \"GO:0048527\"=>\"lateral root development\", \"GO:0010078\"=>\"maintenance of root meristem identity\", \"GO:0010088\"=>\"phloem development\", \"GO:2000280\"=>\"regulation of root development\", \"GO:0009737\"=>\"response to abscisic acid\", \"GO:0048364\"=>\"root development\", \"GO:0048756\"=>\"sieve cell differentiation\"}, @kegg={}>, #<Gene:0x00000001280460e0 @id=\"AT4G02770\", @go={\"GO:0140547\"=>\"acquisition of seed longevity\"}, @kegg={\"ath00195\"=>\"Photosynthesis\", \"ath01100\"=>\"Metabolic pathways\"}>, #<Gene:0x000000013afb5168 @id=\"AT4G37260\", @go={\"GO:0019760\"=>\"glucosinolate metabolic process\", \"GO:1901001\"=>\"negative regulation of response to salt stress\", \"GO:0010929\"=>\"positive regulation of auxin mediated signaling pathway\", \"GO:0006355\"=>\"regulation of transcription, DNA-templated\"}, @kegg={}>, #<Gene:0x000000013aa3ca88 @id=\"AT4G09650\", @go={\"GO:0015979\"=>\"photosynthesis\", \"GO:0009773\"=>\"photosynthetic electron transport in photosystem I\", \"GO:0009772\"=>\"photosynthetic electron transport in photosystem II\"}, @kegg={\"ath00190\"=>\"Oxidative phosphorylation\", \"ath00195\"=>\"Photosynthesis\", \"ath01100\"=>\"Metabolic pathways\"}>]"
      ]
     },
     "execution_count": 92,
     "metadata": {},
     "output_type": "execute_result"
    }
   ],
   "source": [
    "network.network_list[0].each { |gene|\n",
    "    puts '-'\n",
    "    puts gene.class\n",
    "    puts '.'\n",
    "    puts network.all_networks.adjacent_vertices(gene)[0].class\n",
    "    puts '-'\n",
    "}"
   ]
  },
  {
   "cell_type": "code",
   "execution_count": 42,
   "metadata": {},
   "outputs": [
    {
     "name": "stdout",
     "output_type": "stream",
     "text": [
      "Array\n"
     ]
    }
   ],
   "source": [
    "network.all_networks.each_connected_component { |net|\n",
    "    puts net.class\n",
    "    abort\n",
    "}"
   ]
  },
  {
   "cell_type": "code",
   "execution_count": 32,
   "metadata": {},
   "outputs": [
    {
     "name": "stdout",
     "output_type": "stream",
     "text": [
      "{\"ath00190\"=>\"Oxidative phosphorylation\", \"ath00195\"=>\"Photosynthesis\", \"ath01100\"=>\"Metabolic pathways\"}\n",
      "Hash\n"
     ]
    }
   ],
   "source": [
    "network.all_networks.vertices.each  do |gene|\n",
    "    puts gene.find_KEGG\n",
    "    puts gene.kegg.class\n",
    "    abort\n",
    "end"
   ]
  },
  {
   "cell_type": "code",
   "execution_count": 7,
   "metadata": {},
   "outputs": [
    {
     "name": "stdout",
     "output_type": "stream",
     "text": [
      "network\n",
      "{\"GO:0042128\"=>\"nitrate assimilation\", \"GO:0006809\"=>\"nitric oxide biosynthetic process\", \"GO:0009416\"=>\"response to light stimulus\"}\n",
      "{\"GO:0048366\"=>\"leaf development\"}\n",
      "{\"GO:0045454\"=>\"cell redox homeostasis\"}\n",
      "{\"GO:0009734\"=>\"auxin-activated signaling pathway\", \"GO:0030154\"=>\"cell differentiation\", \"GO:0009736\"=>\"cytokinin-activated signaling pathway\", \"GO:0048527\"=>\"lateral root development\", \"GO:0010078\"=>\"maintenance of root meristem identity\", \"GO:0010088\"=>\"phloem development\", \"GO:2000280\"=>\"regulation of root development\", \"GO:0009737\"=>\"response to abscisic acid\", \"GO:0048364\"=>\"root development\", \"GO:0048756\"=>\"sieve cell differentiation\"}\n",
      "{\"GO:0140547\"=>\"acquisition of seed longevity\"}\n",
      "{\"GO:0019760\"=>\"glucosinolate metabolic process\", \"GO:1901001\"=>\"negative regulation of response to salt stress\", \"GO:0010929\"=>\"positive regulation of auxin mediated signaling pathway\", \"GO:0006355\"=>\"regulation of transcription, DNA-templated\"}\n",
      "{\"GO:0015979\"=>\"photosynthesis\", \"GO:0009773\"=>\"photosynthetic electron transport in photosystem I\", \"GO:0009772\"=>\"photosynthetic electron transport in photosystem II\"}\n",
      "network\n",
      "{\"GO:0048825\"=>\"cotyledon development\", \"GO:0009793\"=>\"embryo development ending in seed dormancy\"}\n",
      "{\"GO:0009718\"=>\"anthocyanin-containing compound biosynthetic process\", \"GO:0010023\"=>\"proanthocyanidin biosynthetic process\"}\n",
      "{\"GO:0009734\"=>\"auxin-activated signaling pathway\", \"GO:0010600\"=>\"regulation of auxin biosynthetic process\"}\n",
      "{\"GO:0031347\"=>\"regulation of defense response\"}\n",
      "{\"GO:0009637\"=>\"response to blue light\"}\n",
      "{\"GO:0046283\"=>\"anthocyanin-containing compound metabolic process\", \"GO:0006281\"=>\"DNA repair\", \"GO:0009649\"=>\"entrainment of circadian clock\", \"GO:0048573\"=>\"photoperiodism, flowering\", \"GO:0010119\"=>\"regulation of stomatal movement\", \"GO:0009641\"=>\"shade avoidance\"}\n",
      "{\"GO:0009658\"=>\"chloroplast organization\", \"GO:0010100\"=>\"negative regulation of photomorphogenesis\", \"GO:0009640\"=>\"photomorphogenesis\", \"GO:0010017\"=>\"red or far-red light signaling pathway\", \"GO:2000028\"=>\"regulation of photoperiodism, flowering\", \"GO:0009637\"=>\"response to blue light\", \"GO:0048575\"=>\"short-day photoperiodism, flowering\"}\n",
      "{\"GO:0009909\"=>\"regulation of flower development\"}\n",
      "{\"GO:0006338\"=>\"chromatin remodeling\", \"GO:0048638\"=>\"regulation of developmental growth\", \"GO:0080086\"=>\"stamen filament development\"}\n",
      "network\n",
      "{\"GO:0010150\"=>\"leaf senescence\"}\n",
      "{\"GO:0016051\"=>\"carbohydrate biosynthetic process\", \"GO:0019252\"=>\"starch biosynthetic process\", \"GO:0005986\"=>\"sucrose biosynthetic process\"}\n",
      "{\"GO:0080153\"=>\"negative regulation of reductive pentose-phosphate cycle\", \"GO:0065003\"=>\"protein-containing complex assembly\"}\n",
      "{\"GO:0010205\"=>\"photoinhibition\", \"GO:0010207\"=>\"photosystem II assembly\", \"GO:0042549\"=>\"photosystem II stabilization\", \"GO:0035304\"=>\"regulation of protein dephosphorylation\"}\n",
      "{\"GO:0050832\"=>\"defense response to fungus\", \"GO:0010286\"=>\"heat acclimation\", \"GO:0051259\"=>\"protein complex oligomerization\", \"GO:0006457\"=>\"protein folding\", \"GO:0009408\"=>\"response to heat\", \"GO:0010188\"=>\"response to microbial phytotoxin\"}\n",
      "{\"GO:0050832\"=>\"defense response to fungus\", \"GO:0015979\"=>\"photosynthesis\"}\n",
      "network\n",
      "{\"GO:0009911\"=>\"positive regulation of flower development\", \"GO:0009639\"=>\"response to red or far red light\"}\n",
      "{\"GO:0009738\"=>\"abscisic acid-activated signaling pathway\", \"GO:0009734\"=>\"auxin-activated signaling pathway\", \"GO:0010182\"=>\"sugar mediated signaling pathway\"}\n"
     ]
    },
    {
     "data": {
      "text/plain": [
       "[#<Gene:0x000000011d0d8270 @id=\"AT4G37610\", @go={}, @kegg={}>, #<Gene:0x000000011c874cf0 @id=\"AT1G26830\", @go={\"GO:0009911\"=>\"positive regulation of flower development\", \"GO:0009639\"=>\"response to red or far red light\"}, @kegg={\"ath04120\"=>\"Ubiquitin mediated proteolysis\"}>, #<Gene:0x000000015bc34e50 @id=\"AT3G48360\", @go={\"GO:0009738\"=>\"abscisic acid-activated signaling pathway\", \"GO:0009734\"=>\"auxin-activated signaling pathway\", \"GO:0010182\"=>\"sugar mediated signaling pathway\"}, @kegg={}>]"
      ]
     },
     "execution_count": 7,
     "metadata": {},
     "output_type": "execute_result"
    }
   ],
   "source": [
    "require 'rgl/connected_components'\n",
    "network.all_networks.each_connected_component { |network|\n",
    "    puts 'network'\n",
    "\n",
    "    network.each { |gene|\n",
    "        puts gene.go unless gene.go.empty?\n",
    "    }\n",
    "}"
   ]
  },
  {
   "cell_type": "code",
   "execution_count": null,
   "metadata": {},
   "outputs": [],
   "source": []
  }
 ],
 "metadata": {
  "kernelspec": {
   "display_name": "Ruby 3.0.2",
   "language": "ruby",
   "name": "ruby"
  },
  "language_info": {
   "file_extension": ".rb",
   "mimetype": "application/x-ruby",
   "name": "ruby",
   "version": "3.0.2"
  },
  "orig_nbformat": 4
 },
 "nbformat": 4,
 "nbformat_minor": 2
}
