{
 "cells": [
  {
   "cell_type": "code",
   "execution_count": null,
   "metadata": {},
   "outputs": [],
   "source": [
    "require 'bio'\n",
    "require 'rest-client'   # this is how you access the Web"
   ]
  },
  {
   "cell_type": "code",
   "execution_count": null,
   "metadata": {},
   "outputs": [],
   "source": [
    "def fetch(url, headers = {accept: \"*/*\"}, user = \"\", pass=\"\")\n",
    "\tresponse = RestClient::Request.execute({\n",
    "\t  method: :get,\n",
    "\t  url: url.to_s,\n",
    "\t  user: user,\n",
    "\t  password: pass,\n",
    "\t  headers: headers})\n",
    "\treturn response\n",
    "\t\n",
    "\trescue RestClient::ExceptionWithResponse => e\n",
    "\t  $stderr.puts e.inspect\n",
    "\t  response = false\n",
    "\t  return response  # now we are returning 'False', and we will check that with an \\\"if\\\" statement in our main code\n",
    "\trescue RestClient::Exception => e\n",
    "\t  $stderr.puts e.inspect\n",
    "\t  response = false\n",
    "\t  return response  # now we are returning 'False', and we will check that with an \\\"if\\\" statement in our main code\n",
    "\trescue Exception => e\n",
    "\t  $stderr.puts e.inspect\n",
    "\t  response = false\n",
    "\t  return response  # now we are returning 'False', and we will check that with an \\\"if\\\" statement in our main code\n",
    "  end"
   ]
  },
  {
   "cell_type": "code",
   "execution_count": null,
   "metadata": {},
   "outputs": [],
   "source": [
    "address = 'http://www.ebi.ac.uk/Tools/dbfetch/dbfetch?db=ensemblgenomesgene&format=embl&id=At3g54340'\n",
    "response = fetch(address)\n",
    "record = response.body\n",
    "# create a local file with this data\n",
    "File.open('./embl_records/At3g54340.embl', 'w') do |myfile|  # w makes it writable\n",
    "    myfile.puts record\n",
    "  end\n",
    "end"
   ]
  },
  {
   "cell_type": "code",
   "execution_count": null,
   "metadata": {},
   "outputs": [],
   "source": [
    "datafile2 = Bio::FlatFile.auto('./embl_records/At3g54340.embl')\n",
    "puts datafile2.class \n",
    "\n",
    "datafile2.each_entry do |entry| # the FILE is not the same as the RECORD - multiple records can exist in a file\n",
    "    # shows accession and organism\n",
    "      next unless entry.accession # Specific DB ID. \n",
    "    \n",
    "      puts entry.class # Bio::EMBL\n",
    "      puts \"# #{entry.accession} - #{entry.species}\"\n",
    "    \n",
    "      # iterates over each element in 'features' # features method finds all features\n",
    "      entry.features.each do |feature|\n",
    "        next unless feature.feature == \"exon\"\n",
    "        position = feature.position # Look at Bio::Feature object\n",
    "        puts \"\\n\\n\\n\\nPOSITION = #{position}\"\n",
    "        puts position.class\n",
    "        puts \"\\n\\n\\n\\nFeature = #{feature.feature}\"\n",
    "        qual = feature.assoc            # feature.assoc gives you a hash of Bio::Feature::Qualifier objects \n",
    "                                        # i.e. qualifier['key'] = value  for example qualifier['gene'] = \"CYP450\")\n",
    "        puts \"Associations = #{qual}\"\n",
    "        # skips the entry if \"/translation=\" is not found\n",
    "        # next unless qual['translation']    # this is an indication that the feature is a transcript\n",
    "    \n",
    "        # collects gene name and so on and joins it into a string\n",
    "        gene_info = [\n",
    "          qual['gene'], qual['product'], qual['note'], qual['function']\n",
    "        ].compact.join(', ')\n",
    "        puts \"TRANSCRIPT FOUND!\\nGene Info:  #{gene_info}\"\n",
    "        # shows nucleic acid sequence\n",
    "        puts \"\\n\\n>Exon('#{position}') : #{gene_info}\" # Transcripts are the only things that have translation. \n",
    "        # Each transcript position tells the splice structure relative to entire seq\n",
    "        puts entry.naseq.class   # this is a Bio::Sequence::NA    Look at the documentation to understand the .splicing() method\n",
    "        puts entry.naseq.splice(position)  # http://bioruby.org/rdoc/Bio/Sequence/Common.html#method-i-splice\n",
    "      end\n",
    "    \n",
    "      \n",
    "      puts \"\\n\\nNumber of features #{entry.features.length}\" # How many features are there\n",
    "      \n",
    "    \n",
    "    end"
   ]
  },
  {
   "cell_type": "code",
   "execution_count": 1,
   "metadata": {},
   "outputs": [
    {
     "name": "stdout",
     "output_type": "stream",
     "text": [
      "\n"
     ]
    }
   ],
   "source": [
    "require './Gene.rb'\n",
    "gene = Gene.new(id: \"AT2G46340\")\n",
    "puts"
   ]
  },
  {
   "cell_type": "code",
   "execution_count": 7,
   "metadata": {},
   "outputs": [
    {
     "data": {
      "text/plain": [
       "\"chromosome:TAIR10:2:19022154:19027528:1\""
      ]
     },
     "execution_count": 7,
     "metadata": {},
     "output_type": "execute_result"
    }
   ],
   "source": [
    "gene.embl.accession"
   ]
  },
  {
   "cell_type": "code",
   "execution_count": 13,
   "metadata": {},
   "outputs": [
    {
     "name": "stdout",
     "output_type": "stream",
     "text": [
      "2\n"
     ]
    }
   ],
   "source": [
    "acc_regex = Regexp.new(/chromosome:TAIR10:(\\d):(\\d*):(\\d*):1/)\n",
    "match = acc_regex.match(gene.embl.accession)\n",
    "puts match[1]"
   ]
  },
  {
   "cell_type": "code",
   "execution_count": 17,
   "metadata": {},
   "outputs": [
    {
     "name": "stdout",
     "output_type": "stream",
     "text": [
      "19024143\n",
      "19024148\n"
     ]
    }
   ],
   "source": [
    "puts 19022154 + 1990 - 1\n",
    "puts 19022154 + 1995 - 1"
   ]
  },
  {
   "cell_type": "code",
   "execution_count": null,
   "metadata": {},
   "outputs": [],
   "source": []
  },
  {
   "cell_type": "code",
   "execution_count": 30,
   "metadata": {},
   "outputs": [
    {
     "data": {
      "text/plain": [
       "[5009, 5375]"
      ]
     },
     "execution_count": 30,
     "metadata": {},
     "output_type": "execute_result"
    }
   ],
   "source": [
    "from, to = gene.features['exons']['AT2G46340.1.exon1'].locations.span"
   ]
  },
  {
   "cell_type": "code",
   "execution_count": 41,
   "metadata": {},
   "outputs": [
    {
     "name": "stdout",
     "output_type": "stream",
     "text": [
      "1394\n",
      "1540\n"
     ]
    }
   ],
   "source": [
    "puts from\n",
    "puts to"
   ]
  },
  {
   "cell_type": "code",
   "execution_count": 31,
   "metadata": {},
   "outputs": [
    {
     "data": {
      "text/plain": [
       "\"cccgaagatcccagatatcgagagagatcacaatcagatcatacaccgaagcggtgtggagaagaaacctcttgaagaaagcaaattcaaaaacacacagaagaagaagaagaagaagaagaaaggtgaggctataaatttgtcatatactattgataattacatataatatctcttttgtattctgtgtatagtcgaagaaacacaaatgaatctctctttctctatagacttttgcacaattcgttcttcattccttattttctgattttttattttaatgattaatttaggctttgaagccacatatcaaattttctttattctggcggacaattttttgaacattattttatttaattttttc\""
      ]
     },
     "execution_count": 31,
     "metadata": {},
     "output_type": "execute_result"
    }
   ],
   "source": [
    "seq = gene.sequence.splicing(gene.features['exons']['AT2G46340.1.exon1'].position)"
   ]
  },
  {
   "cell_type": "code",
   "execution_count": 36,
   "metadata": {},
   "outputs": [
    {
     "data": {
      "text/plain": [
       "\"aagaag\""
      ]
     },
     "execution_count": 36,
     "metadata": {},
     "output_type": "execute_result"
    }
   ],
   "source": [
    "gene.sequence.splicing(\"#{101 + 5009 - 1}..#{106 + 5009 - 1}\")"
   ]
  },
  {
   "cell_type": "code",
   "execution_count": 10,
   "metadata": {},
   "outputs": [
    {
     "ename": "TypeError",
     "evalue": "no implicit conversion of nil into String",
     "output_type": "error",
     "traceback": [
      "\u001b[31mTypeError\u001b[0m: no implicit conversion of nil into String",
      "/opt/homebrew/lib/ruby/gems/3.0.0/gems/bio-2.0.2/lib/bio/sequence/common.rb:299:in `block in splice'",
      "/opt/homebrew/lib/ruby/gems/3.0.0/gems/bio-2.0.2/lib/bio/location.rb:395:in `block in each'",
      "/opt/homebrew/lib/ruby/gems/3.0.0/gems/bio-2.0.2/lib/bio/location.rb:394:in `each'",
      "/opt/homebrew/lib/ruby/gems/3.0.0/gems/bio-2.0.2/lib/bio/location.rb:394:in `each'",
      "/opt/homebrew/lib/ruby/gems/3.0.0/gems/bio-2.0.2/lib/bio/sequence/common.rb:290:in `splice'",
      "/opt/homebrew/lib/ruby/gems/3.0.0/gems/bio-2.0.2/lib/bio/sequence/na.rb:83:in `splicing'",
      "/opt/homebrew/lib/ruby/gems/3.0.0/gems/bio-2.0.2/lib/bio/sequence.rb:107:in `method_missing'",
      "(irb):in `<main>'"
     ]
    }
   ],
   "source": [
    "gene.sequence.splicing(\"complement(F10M23_4:122538..122685)\")"
   ]
  },
  {
   "cell_type": "code",
   "execution_count": 7,
   "metadata": {},
   "outputs": [
    {
     "ename": "NameError",
     "evalue": "undefined local variable or method `seq' for #<Object:0x0000000113bc88d8>\nDid you mean?  send",
     "output_type": "error",
     "traceback": [
      "\u001b[31mNameError\u001b[0m: undefined local variable or method `seq' for #<Object:0x0000000113bc88d8>\nDid you mean?  send",
      "(irb):in `<main>'"
     ]
    }
   ],
   "source": [
    "seq.splicing(\"5121\t5126\")"
   ]
  },
  {
   "cell_type": "code",
   "execution_count": 16,
   "metadata": {},
   "outputs": [
    {
     "name": "stdout",
     "output_type": "stream",
     "text": [
      "918\n",
      "1394\n",
      "1\n",
      "771\n",
      "3265\n",
      "4814\n",
      "5009\n",
      "1743\n",
      "10\n",
      "2806\n",
      "\n"
     ]
    }
   ],
   "source": [
    "gene.features['exons'].each do |id, value|\n",
    "    to, from = value.locations.span\n",
    "    puts to\n",
    "end\n",
    "puts"
   ]
  },
  {
   "cell_type": "code",
   "execution_count": 45,
   "metadata": {},
   "outputs": [
    {
     "name": "stdout",
     "output_type": "stream",
     "text": [
      "{\"note\"=>\"AT2G46340.2.exon6\"}\n"
     ]
    },
    {
     "ename": "NameError",
     "evalue": "undefined local variable or method `repeats' for #<Object:0x0000000113188e18>\nDid you mean?  repeat",
     "output_type": "error",
     "traceback": [
      "\u001b[31mNameError\u001b[0m: undefined local variable or method `repeats' for #<Object:0x0000000113188e18>\nDid you mean?  repeat",
      "(irb):4:in `block in <main>'",
      "(irb):1:in `each'",
      "(irb):1:in `<main>'"
     ]
    }
   ],
   "source": [
    "repeats_array = Array.new\n",
    "gene.sequence.features.each do |feature|\n",
    "    next unless feature.feature == 'repeat'\n",
    "    puts feature.assoc['note'].class\n",
    "    repeats << feature.assoc['note']\n",
    "    # next if gene.features['exons'].key?(idx)\n",
    "    # puts gene.features['exons'][idx]\n",
    "end\n",
    "puts"
   ]
  },
  {
   "cell_type": "code",
   "execution_count": 57,
   "metadata": {},
   "outputs": [
    {
     "name": "stdout",
     "output_type": "stream",
     "text": [
      "AT2G46340.2.exon6 AT2G46340.1.exon8 AT2G46340.2.exon1 AT2G46340.1.exon1 AT2G46340.2.exon4 AT2G46340.2.exon8\n",
      "\n",
      "AT2G46340.2.exon6 AT2G46340.2.exon5 AT2G46340.1.exon8 AT2G46340.2.exon7 AT2G46340.2.exon2 AT2G46340.2.exon1 AT2G46340.1.exon1 AT2G46340.2.exon4 AT2G46340.2.exon8 AT2G46340.2.exon3\n"
     ]
    }
   ],
   "source": [
    "puts repeats.uniq.join(' ')\n",
    "puts \n",
    "puts gene.features[\"exons\"].keys.join(' ')"
   ]
  },
  {
   "cell_type": "code",
   "execution_count": 58,
   "metadata": {},
   "outputs": [
    {
     "data": {
      "text/plain": [
       "[\"AT2G46340.2.exon5\", \"AT2G46340.2.exon7\", \"AT2G46340.2.exon2\", \"AT2G46340.2.exon3\"]"
      ]
     },
     "execution_count": 58,
     "metadata": {},
     "output_type": "execute_result"
    }
   ],
   "source": [
    "gene.features[\"exons\"].keys - repeats.uniq"
   ]
  },
  {
   "cell_type": "code",
   "execution_count": 46,
   "metadata": {},
   "outputs": [
    {
     "data": {
      "text/plain": [
       "#<Bio::Feature:0x0000000158b93508 @feature=\"exon\", @position=\"complement(771..830)\", @qualifiers=[#<Bio::Feature::Qualifier:0x0000000158b93288 @qualifier=\"note\", @value=\"exon_id=AT2G46340.2.exon7\">]>"
      ]
     },
     "execution_count": 46,
     "metadata": {},
     "output_type": "execute_result"
    }
   ],
   "source": [
    "gene.features['exons'][\"AT2G46340.2.exon7\"]"
   ]
  },
  {
   "cell_type": "code",
   "execution_count": 43,
   "metadata": {},
   "outputs": [
    {
     "data": {
      "text/plain": [
       "[\"AT2G46340.2.exon6\", \"AT2G46340.2.exon5\", \"AT2G46340.1.exon8\", \"AT2G46340.2.exon7\", \"AT2G46340.2.exon2\", \"AT2G46340.2.exon1\", \"AT2G46340.1.exon1\", \"AT2G46340.2.exon4\", \"AT2G46340.2.exon8\", \"AT2G46340.2.exon3\"]"
      ]
     },
     "execution_count": 43,
     "metadata": {},
     "output_type": "execute_result"
    }
   ],
   "source": [
    "gene.features[\"exons\"].keys"
   ]
  },
  {
   "cell_type": "code",
   "execution_count": null,
   "metadata": {},
   "outputs": [],
   "source": [
    "# Search exons for CTTCTT\n",
    "repeat = \"CTTCTT\"\n",
    "repeat_regex = Regexp.new(/cttctt/i)\n",
    "gene.features[\"exons\"].each do |exon_id, exon|\n",
    "    # sequence = gene.embl.naseq.splicing(exon.position)\n",
    "    # For testing\n",
    "    sequence = \"atgcttcttaaacttctt\"\n",
    "    matches = repeat_regex.match(sequence)\n",
    "    if matches\n",
    "        puts matches.to_a\n",
    "        abort\n",
    "        matches.each do |match|\n",
    "\n",
    "            puts match.offset[1]\n",
    "            puts sequence[matches.offset[0]...matches.offset[1]]\n",
    "        end\n",
    "    end\n",
    "end\n",
    "puts"
   ]
  },
  {
   "cell_type": "code",
   "execution_count": null,
   "metadata": {},
   "outputs": [],
   "source": [
    "repeat = Bio::Sequence::NA.new(\"CTTCTT\")\n",
    "puts repeat.complement"
   ]
  },
  {
   "cell_type": "code",
   "execution_count": 77,
   "metadata": {},
   "outputs": [
    {
     "name": "stdout",
     "output_type": "stream",
     "text": [
      "5\n",
      "5\n",
      "6..11\n",
      "8\n",
      "8\n",
      "9..14\n",
      "5\n",
      "5\n",
      "6..11\n",
      "8\n",
      "8\n",
      "9..14\n",
      "5\n",
      "5\n",
      "6..11\n",
      "8\n",
      "8\n",
      "9..14\n",
      "5\n",
      "5\n",
      "6..11\n",
      "8\n",
      "8\n",
      "9..14\n",
      "5\n",
      "5\n",
      "6..11\n",
      "8\n",
      "8\n",
      "9..14\n",
      "5\n",
      "5\n",
      "6..11\n",
      "8\n",
      "8\n",
      "9..14\n",
      "5\n",
      "5\n",
      "6..11\n",
      "8\n",
      "8\n",
      "9..14\n",
      "5\n",
      "5\n",
      "6..11\n",
      "8\n",
      "8\n",
      "9..14\n",
      "5\n",
      "5\n",
      "6..11\n",
      "8\n",
      "8\n",
      "9..14\n",
      "5\n",
      "5\n",
      "6..11\n",
      "8\n",
      "8\n",
      "9..14\n",
      "\n"
     ]
    }
   ],
   "source": [
    "# Search exons for CTTCTT\n",
    "repeat = Bio::Sequence::NA.new(\"CTTCTT\")\n",
    "reverse_comp = \"aagaag\"\n",
    "repeat_regex = Regexp.new(/(?=#{repeat})/i)\n",
    "reverse_repeat_regex = Regexp.new(/(?=#{repeat.complement})/i)\n",
    "gene.features[\"exons\"].each do |exon_id, exon|\n",
    "    #sequence = gene.sequence.splice(exon.position)\n",
    "    # For testing\n",
    "    sequence = \"cttaacttcttctt\"\n",
    "    # sequence = \"aagaagaagtttaag\"\n",
    "    match_datas = sequence.to_enum(:scan, repeat_regex).map {Regexp.last_match}\n",
    "    if match_datas\n",
    "        match_datas.each do |match|\n",
    "            # puts match.offset(0)[0]\n",
    "            # puts match.offset(0)[1]\n",
    "            position = \"#{match.offset(0)[0]+1}..#{match.offset(0)[0]+1 + 5}\"\n",
    "            puts position\n",
    "            # puts sequence.splicing(position)\n",
    "            # repeat_ft = Bio::Feature::new('repeat', position)\n",
    "            # repeat_ft.append(Bio::Feature::Qualifier.new('note', exon_id))\n",
    "\n",
    "            # gene.sequence.features << repeat_ft \n",
    "            # puts exon.position\n",
    "            # puts match.offset(0)\n",
    "            # puts sequence[match.offset(0)[0]...match.offset(0)[1]]\n",
    "            # puts sequence[match.offset(0)[0]...match.offset(0)[1]]\n",
    "            # puts\n",
    "       end\n",
    "    end\n",
    "\n",
    "    rev_match_datas = sequence.to_enum(:scan, reverse_repeat_regex).map {Regexp.last_match}\n",
    "    if rev_match_datas\n",
    "        rev_match_datas.each do |match|\n",
    "            position = \"complement(#{match.offset(0)[0]+1}..#{match.offset(0)[0]+1 + 5})\"\n",
    "            puts position\n",
    "            # # puts sequence.splicing(position)\n",
    "            # rev_repeat_ft = Bio::Feature::new('repeat', position)\n",
    "            # rev_repeat_ft.append(Bio::Feature::Qualifier.new('note', exon_id))\n",
    "\n",
    "            # gene.sequence.features << rev_repeat_ft\n",
    "            # puts exon.position\n",
    "            # puts match.offset(0)\n",
    "            # puts sequence[match.offset(0)[0]...match.offset(0)[1]]\n",
    "            # puts sequence[match.offset(0)[0]...match.offset(0)[1]]\n",
    "            # puts\n",
    "       end\n",
    "    end\n",
    "end\n",
    "puts"
   ]
  },
  {
   "cell_type": "code",
   "execution_count": 27,
   "metadata": {},
   "outputs": [
    {
     "data": {
      "text/plain": [
       ":matching_substrings"
      ]
     },
     "execution_count": 27,
     "metadata": {},
     "output_type": "execute_result"
    }
   ],
   "source": [
    "def matching_substrings(string, regex)\n",
    "    string.size.times.each_with_object([]) do |start_index, maching_substrings|\n",
    "      start_index.upto(string.size.pred) do |end_index|\n",
    "        substring = string[start_index..end_index]\n",
    "        maching_substrings.push(substring) if substring =~ /^#{regex}$/\n",
    "      end\n",
    "    end\n",
    "end"
   ]
  },
  {
   "cell_type": "code",
   "execution_count": 50,
   "metadata": {},
   "outputs": [
    {
     "data": {
      "text/plain": [
       "[#<MatchData \"ctt\">, #<MatchData \"ctt\">]"
      ]
     },
     "execution_count": 50,
     "metadata": {},
     "output_type": "execute_result"
    }
   ],
   "source": [
    "tests = 'cttcttcttctt'\n",
    "repeat_regex = Regexp.new(/ctt/i)\n",
    "match_datas = tests.to_enum(:scan, repeat_regex).map {Regexp.last_match}\n",
    "match_datas.each_cons(2).to_a"
   ]
  },
  {
   "cell_type": "code",
   "execution_count": null,
   "metadata": {},
   "outputs": [],
   "source": [
    "gene.sequence.features.each do |feature|\n",
    "    puts feature\n",
    "end\n",
    "puts"
   ]
  },
  {
   "cell_type": "code",
   "execution_count": null,
   "metadata": {},
   "outputs": [],
   "source": [
    "puts sequence.length\n",
    "puts sequence.splicing('complement(258..263)').complement"
   ]
  },
  {
   "cell_type": "code",
   "execution_count": null,
   "metadata": {},
   "outputs": [],
   "source": [
    "repeat = \"CTTCTT\"\n",
    "sequence = \"atgcttcttaaacttctt\"\n",
    "repeat_regex = Regexp.new(/#{repeat]/i)"
   ]
  },
  {
   "cell_type": "code",
   "execution_count": null,
   "metadata": {},
   "outputs": [],
   "source": [
    "s = Bio::Sequence::NA.new(\"atgcttcttaaacttctt\")\n",
    "puts s\n",
    "puts s.splicing('4..9')\n",
    "puts s.splicing('complement(4..9)')"
   ]
  },
  {
   "cell_type": "code",
   "execution_count": null,
   "metadata": {},
   "outputs": [],
   "source": [
    "# iterates over each element in 'features' # features method finds all features\n",
    "features_hash = Hash.new\n",
    "\n",
    "entry.features.each do |feature|\n",
    "    # FILTER EXONS\n",
    "    next unless feature.feature == \"exon\"\n",
    "    puts feature.class\n",
    "    puts \"FEATURE = #{feature.feature}\"\n",
    "    position = feature.position # Look at Bio::Feature object\n",
    "    puts \"POSITION = #{position}\"\n",
    "    qual = feature.assoc # \n",
    "    puts \"Associations = #{qual}\"\n",
    "    puts \"Associations note = #{qual[\"note\"]}\"\n",
    "\n",
    "    exon_id_regex = Regexp.new(/exon_id=(.*)/)\n",
    "    if exon_id_regex.match(qual[\"note\"])\n",
    "        features_hash[$1] = feature\n",
    "    end\n",
    "    puts\n",
    "end\n",
    "puts 'end'"
   ]
  },
  {
   "cell_type": "code",
   "execution_count": null,
   "metadata": {},
   "outputs": [],
   "source": [
    "puts features_hash.keys"
   ]
  },
  {
   "cell_type": "code",
   "execution_count": null,
   "metadata": {},
   "outputs": [],
   "source": [
    "features_hash[\"AT2G46340.2.exon8\"].class"
   ]
  },
  {
   "cell_type": "code",
   "execution_count": 1,
   "metadata": {},
   "outputs": [
    {
     "name": "stdout",
     "output_type": "stream",
     "text": [
      "990..995\n",
      "993..998\n",
      "1657..1662\n",
      "complement(1449..1454)\n",
      "291..296\n",
      "381..386\n",
      "384..389\n",
      "\n"
     ]
    }
   ],
   "source": [
    "require './Gene.rb'\n",
    "gene = Gene.new(id: \"AT5G15850\")\n",
    "puts"
   ]
  },
  {
   "cell_type": "code",
   "execution_count": 2,
   "metadata": {},
   "outputs": [
    {
     "name": "stdout",
     "output_type": "stream",
     "text": [
      "\n"
     ]
    }
   ],
   "source": [
    "puts gene.write_report"
   ]
  },
  {
   "cell_type": "code",
   "execution_count": null,
   "metadata": {},
   "outputs": [],
   "source": []
  }
 ],
 "metadata": {
  "kernelspec": {
   "display_name": "Ruby 3.0.2",
   "language": "ruby",
   "name": "ruby"
  },
  "language_info": {
   "file_extension": ".rb",
   "mimetype": "application/x-ruby",
   "name": "ruby",
   "version": "3.0.2"
  },
  "orig_nbformat": 4
 },
 "nbformat": 4,
 "nbformat_minor": 2
}
