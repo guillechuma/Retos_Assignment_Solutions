{
 "cells": [
  {
   "cell_type": "markdown",
   "metadata": {},
   "source": [
    "# Assignment 5 - SPARQL\n",
    "### Guillermo Chumaceiro López"
   ]
  },
  {
   "cell_type": "code",
   "execution_count": 8,
   "metadata": {},
   "outputs": [
    {
     "data": {
      "text/html": [
       "<div class=\"krn-spql\"><div class=\"magic\">Endpoint set to: https://sparql.uniprot.org/sparql</div><div class=\"magic\">Request format: JSON</div></div>"
      ],
      "text/plain": [
       "Endpoint set to: https://sparql.uniprot.org/sparql\n",
       "Request format: JSON\n"
      ]
     },
     "metadata": {},
     "output_type": "display_data"
    }
   ],
   "source": [
    "%endpoint https://sparql.uniprot.org/sparql\n",
    "%format JSON"
   ]
  },
  {
   "cell_type": "markdown",
   "metadata": {},
   "source": [
    "### Q1. How many protein records are in UniProt? "
   ]
  },
  {
   "cell_type": "code",
   "execution_count": 3,
   "metadata": {},
   "outputs": [
    {
     "data": {
      "text/html": [
       "<div class=\"krn-spql\"><table><tr class=hdr><th>prot_records</th></tr><tr class=odd><td class=val>360157660</td></tr></table><div class=\"tinfo\">Total: 1, Shown: 1</div></div>"
      ]
     },
     "metadata": {},
     "output_type": "display_data"
    }
   ],
   "source": [
    "PREFIX up: <http://purl.uniprot.org/core/>\n",
    "\n",
    "SELECT DISTINCT COUNT(?protein) AS ?prot_records\n",
    "WHERE {\n",
    "\t?protein a up:Protein .\n",
    "}"
   ]
  },
  {
   "cell_type": "markdown",
   "metadata": {},
   "source": [
    "### Q2. How many Arabidopsis thaliana protein records are in UniProt? "
   ]
  },
  {
   "cell_type": "code",
   "execution_count": 3,
   "metadata": {},
   "outputs": [
    {
     "data": {
      "text/html": [
       "<div class=\"krn-spql\"><table><tr class=hdr><th>ara_prot_records</th></tr><tr class=odd><td class=val>136782</td></tr></table><div class=\"tinfo\">Total: 1, Shown: 1</div></div>"
      ]
     },
     "metadata": {},
     "output_type": "display_data"
    }
   ],
   "source": [
    "PREFIX up: <http://purl.uniprot.org/core/>\n",
    "PREFIX taxon: <http://purl.uniprot.org/taxonomy/>\n",
    "\n",
    "SELECT DISTINCT COUNT(?protein) AS ?ara_prot_records\n",
    "WHERE {\n",
    "\t?protein a up:Protein .\n",
    "    ?protein up:organism taxon:3702 .\n",
    "}"
   ]
  },
  {
   "cell_type": "markdown",
   "metadata": {},
   "source": [
    "### Q3. Retrieve pictures of Arabidopsis thaliana from UniProt? "
   ]
  },
  {
   "cell_type": "code",
   "execution_count": 4,
   "metadata": {},
   "outputs": [
    {
     "data": {
      "text/html": [
       "<div class=\"krn-spql\"><table><tr class=hdr><th>image</th></tr><tr class=odd><td class=val><a href=\"https://upload.wikimedia.org/wikipedia/commons/3/39/Arabidopsis.jpg\" target=\"_other\">https://upload.wikimedia.org/wikipedia/commons/3/39/Arabidopsis.jpg</a></td></tr><tr class=even><td class=val><a href=\"https://upload.wikimedia.org/wikipedia/commons/thumb/6/60/Arabidopsis_thaliana_inflorescencias.jpg/800px-Arabidopsis_thaliana_inflorescencias.jpg\" target=\"_other\">https://upload.wikimedia.org/wikipedia/commons/thumb/6/60/Arabidopsis_thaliana_inflorescencias.jpg/800px-Arabidopsis_thaliana_inflorescencias.jpg</a></td></tr></table><div class=\"tinfo\">Total: 2, Shown: 2</div></div>"
      ]
     },
     "metadata": {},
     "output_type": "display_data"
    }
   ],
   "source": [
    "PREFIX foaf: <http://xmlns.com/foaf/0.1/>\n",
    "PREFIX taxon: <http://purl.uniprot.org/taxonomy/>\n",
    "\n",
    "SELECT DISTINCT ?image\n",
    "WHERE {\n",
    "\ttaxon:3702 foaf:depiction ?image .\n",
    "}"
   ]
  },
  {
   "cell_type": "markdown",
   "metadata": {},
   "source": [
    "### Q4. What is the description of the enzyme activity of UniProt Protein Q9SZZ8"
   ]
  },
  {
   "cell_type": "code",
   "execution_count": 5,
   "metadata": {},
   "outputs": [
    {
     "data": {
      "text/html": [
       "<div class=\"krn-spql\"><table><tr class=hdr><th>equation</th></tr><tr class=odd><td class=val>Beta-carotene + 4 reduced ferredoxin [iron-sulfur] cluster + 2 H(+) + 2 O(2) = zeaxanthin + 4 oxidized ferredoxin [iron-sulfur] cluster + 2 H(2)O.</td></tr></table><div class=\"tinfo\">Total: 1, Shown: 1</div></div>"
      ]
     },
     "metadata": {},
     "output_type": "display_data"
    }
   ],
   "source": [
    "PREFIX rdfs: <http://www.w3.org/2000/01/rdf-schema#>\n",
    "PREFIX up: <http://purl.uniprot.org/core/>\n",
    "PREFIX uniprotkb: <http://purl.uniprot.org/uniprot/>\n",
    "\n",
    "SELECT DISTINCT ?equation\n",
    "WHERE {\n",
    "\tuniprotkb:Q9SZZ8 a up:Protein ;\n",
    "\tup:enzyme ?enzyme .\n",
    "\t?enzyme up:activity ?activity .\n",
    "\t?activity rdfs:label ?equation.\n",
    "}"
   ]
  },
  {
   "cell_type": "markdown",
   "metadata": {},
   "source": [
    "### Q5.  Retrieve the proteins ids, and date of submission, for proteins that have been added to UniProt this year"
   ]
  },
  {
   "cell_type": "code",
   "execution_count": 4,
   "metadata": {},
   "outputs": [
    {
     "data": {
      "text/html": [
       "<div class=\"krn-spql\"><table><tr class=hdr><th>protein</th>\n",
       "<th>date</th></tr><tr class=odd><td class=val><a href=\"http://purl.uniprot.org/uniprot/A0A1H7ADE3\" target=\"_other\">http://purl.uniprot.org/uniprot/A0A1H7ADE3</a></td>\n",
       "<td class=val>2021-06-02</td></tr><tr class=even><td class=val><a href=\"http://purl.uniprot.org/uniprot/A0A1V1AIL4\" target=\"_other\">http://purl.uniprot.org/uniprot/A0A1V1AIL4</a></td>\n",
       "<td class=val>2021-06-02</td></tr><tr class=odd><td class=val><a href=\"http://purl.uniprot.org/uniprot/A0A2Z0L603\" target=\"_other\">http://purl.uniprot.org/uniprot/A0A2Z0L603</a></td>\n",
       "<td class=val>2021-06-02</td></tr><tr class=even><td class=val><a href=\"http://purl.uniprot.org/uniprot/A0A4J5GG53\" target=\"_other\">http://purl.uniprot.org/uniprot/A0A4J5GG53</a></td>\n",
       "<td class=val>2021-04-07</td></tr><tr class=odd><td class=val><a href=\"http://purl.uniprot.org/uniprot/A0A6G8SU52\" target=\"_other\">http://purl.uniprot.org/uniprot/A0A6G8SU52</a></td>\n",
       "<td class=val>2021-02-10</td></tr><tr class=even><td class=val><a href=\"http://purl.uniprot.org/uniprot/A0A6G8SU69\" target=\"_other\">http://purl.uniprot.org/uniprot/A0A6G8SU69</a></td>\n",
       "<td class=val>2021-02-10</td></tr><tr class=odd><td class=val><a href=\"http://purl.uniprot.org/uniprot/A0A7C9JLR7\" target=\"_other\">http://purl.uniprot.org/uniprot/A0A7C9JLR7</a></td>\n",
       "<td class=val>2021-02-10</td></tr><tr class=even><td class=val><a href=\"http://purl.uniprot.org/uniprot/A0A7C9JMZ7\" target=\"_other\">http://purl.uniprot.org/uniprot/A0A7C9JMZ7</a></td>\n",
       "<td class=val>2021-02-10</td></tr><tr class=odd><td class=val><a href=\"http://purl.uniprot.org/uniprot/A0A7C9KUQ4\" target=\"_other\">http://purl.uniprot.org/uniprot/A0A7C9KUQ4</a></td>\n",
       "<td class=val>2021-02-10</td></tr><tr class=even><td class=val><a href=\"http://purl.uniprot.org/uniprot/A0A7D4HP61\" target=\"_other\">http://purl.uniprot.org/uniprot/A0A7D4HP61</a></td>\n",
       "<td class=val>2021-02-10</td></tr><tr class=odd><td class=val><a href=\"http://purl.uniprot.org/uniprot/A0A7D6A5N9\" target=\"_other\">http://purl.uniprot.org/uniprot/A0A7D6A5N9</a></td>\n",
       "<td class=val>2021-06-02</td></tr><tr class=even><td class=val><a href=\"http://purl.uniprot.org/uniprot/A0A7D6FMY9\" target=\"_other\">http://purl.uniprot.org/uniprot/A0A7D6FMY9</a></td>\n",
       "<td class=val>2021-02-10</td></tr><tr class=odd><td class=val><a href=\"http://purl.uniprot.org/uniprot/A0A7D6VKU9\" target=\"_other\">http://purl.uniprot.org/uniprot/A0A7D6VKU9</a></td>\n",
       "<td class=val>2021-02-10</td></tr><tr class=even><td class=val><a href=\"http://purl.uniprot.org/uniprot/A0A7D6VKZ9\" target=\"_other\">http://purl.uniprot.org/uniprot/A0A7D6VKZ9</a></td>\n",
       "<td class=val>2021-02-10</td></tr><tr class=odd><td class=val><a href=\"http://purl.uniprot.org/uniprot/A0A7D7EJU1\" target=\"_other\">http://purl.uniprot.org/uniprot/A0A7D7EJU1</a></td>\n",
       "<td class=val>2021-02-10</td></tr><tr class=even><td class=val><a href=\"http://purl.uniprot.org/uniprot/A0A7D7HYH9\" target=\"_other\">http://purl.uniprot.org/uniprot/A0A7D7HYH9</a></td>\n",
       "<td class=val>2021-02-10</td></tr><tr class=odd><td class=val><a href=\"http://purl.uniprot.org/uniprot/A0A7G5HK20\" target=\"_other\">http://purl.uniprot.org/uniprot/A0A7G5HK20</a></td>\n",
       "<td class=val>2021-02-10</td></tr><tr class=even><td class=val><a href=\"http://purl.uniprot.org/uniprot/A0A7G6B4J7\" target=\"_other\">http://purl.uniprot.org/uniprot/A0A7G6B4J7</a></td>\n",
       "<td class=val>2021-02-10</td></tr><tr class=odd><td class=val><a href=\"http://purl.uniprot.org/uniprot/A0A7G6T9F2\" target=\"_other\">http://purl.uniprot.org/uniprot/A0A7G6T9F2</a></td>\n",
       "<td class=val>2021-02-10</td></tr><tr class=even><td class=val><a href=\"http://purl.uniprot.org/uniprot/A0A7G7EDL3\" target=\"_other\">http://purl.uniprot.org/uniprot/A0A7G7EDL3</a></td>\n",
       "<td class=val>2021-02-10</td></tr></table><div class=\"tinfo\">Total: 37880749, Shown: 20</div></div>"
      ]
     },
     "metadata": {},
     "output_type": "display_data"
    }
   ],
   "source": [
    "PREFIX up: <http://purl.uniprot.org/core/>\n",
    "PREFIX xsd: <http://www.w3.org/2001/XMLSchema#>\n",
    "\n",
    "SELECT DISTINCT ?protein ?date\n",
    "WHERE {\n",
    "\t?protein a up:Protein .\n",
    "\t?protein up:created ?date .\n",
    "    FILTER((xsd:date(?date) >= \"2021-01-01\"^^xsd:date) && (xsd:date(?date) <= \"2021-12-31\"^^xsd:date))\n",
    "}"
   ]
  },
  {
   "cell_type": "markdown",
   "metadata": {},
   "source": [
    "### Q6. How  many species are in the UniProt taxonomy?"
   ]
  },
  {
   "cell_type": "code",
   "execution_count": 19,
   "metadata": {},
   "outputs": [
    {
     "data": {
      "text/html": [
       "<div class=\"krn-spql\"><table><tr class=hdr><th>species</th></tr><tr class=odd><td class=val>2029846</td></tr></table><div class=\"tinfo\">Total: 1, Shown: 1</div></div>"
      ]
     },
     "metadata": {},
     "output_type": "display_data"
    }
   ],
   "source": [
    "PREFIX up: <http://purl.uniprot.org/core/>\n",
    "\n",
    "SELECT DISTINCT COUNT(?taxon) AS ?species\n",
    "WHERE\n",
    "{\n",
    "    ?taxon a up:Taxon ;\n",
    "    up:rank up:Species .\n",
    "}"
   ]
  },
  {
   "cell_type": "markdown",
   "metadata": {},
   "source": [
    "### Q7. How many species have at least one protein record?"
   ]
  },
  {
   "cell_type": "code",
   "execution_count": 23,
   "metadata": {},
   "outputs": [
    {
     "data": {
      "text/html": [
       "<div class=\"krn-spql\"><table><tr class=hdr><th>species</th></tr><tr class=odd><td class=val>1057158</td></tr></table><div class=\"tinfo\">Total: 1, Shown: 1</div></div>"
      ]
     },
     "metadata": {},
     "output_type": "display_data"
    }
   ],
   "source": [
    "PREFIX up: <http://purl.uniprot.org/core/>\n",
    "\n",
    "SELECT (COUNT (DISTINCT ?taxon) AS ?species)\n",
    "WHERE\n",
    "{\n",
    "    ?protein a up:Protein .\n",
    "    ?protein up:organism ?taxon .\n",
    "    ?taxon a up:Taxon ;\n",
    "    up:rank up:Species .\n",
    "}"
   ]
  },
  {
   "cell_type": "markdown",
   "metadata": {},
   "source": [
    "### Q8. Find the AGI codes and gene names for all Arabidopsis thaliana  proteins that have a protein function annotation description that mentions “pattern formation”"
   ]
  },
  {
   "cell_type": "code",
   "execution_count": 7,
   "metadata": {},
   "outputs": [
    {
     "data": {
      "text/html": [
       "<div class=\"krn-spql\"><table><tr class=hdr><th>AGI_code</th>\n",
       "<th>gene_name</th></tr><tr class=odd><td class=val>At3g54220</td>\n",
       "<td class=val>SCR</td></tr><tr class=even><td class=val>At4g21750</td>\n",
       "<td class=val>ATML1</td></tr><tr class=odd><td class=val>At1g13980</td>\n",
       "<td class=val>GN</td></tr><tr class=even><td class=val>At5g40260</td>\n",
       "<td class=val>SWEET8</td></tr><tr class=odd><td class=val>At1g69670</td>\n",
       "<td class=val>CUL3B</td></tr><tr class=even><td class=val>At1g63700</td>\n",
       "<td class=val>YDA</td></tr><tr class=odd><td class=val>At2g46710</td>\n",
       "<td class=val>ROPGAP3</td></tr><tr class=even><td class=val>At1g26830</td>\n",
       "<td class=val>CUL3A</td></tr><tr class=odd><td class=val>At3g09090</td>\n",
       "<td class=val>DEX1</td></tr><tr class=even><td class=val>At4g37650</td>\n",
       "<td class=val>SHR</td></tr><tr class=odd><td class=val>At5g55250</td>\n",
       "<td class=val>IAMT1</td></tr><tr class=even><td class=val>At3g02130</td>\n",
       "<td class=val>RPK2</td></tr><tr class=odd><td class=val>At2g42580</td>\n",
       "<td class=val>TTL3</td></tr><tr class=even><td class=val>At1g69270</td>\n",
       "<td class=val>RPK1</td></tr><tr class=odd><td class=val>At5g02010</td>\n",
       "<td class=val>ROPGEF7</td></tr><tr class=even><td class=val>At1g66470</td>\n",
       "<td class=val>RHD6</td></tr><tr class=odd><td class=val>At5g37800</td>\n",
       "<td class=val>RSL1</td></tr></table><div class=\"tinfo\">Total: 17, Shown: 17</div></div>"
      ]
     },
     "metadata": {},
     "output_type": "display_data"
    }
   ],
   "source": [
    "PREFIX up: <http://purl.uniprot.org/core/>\n",
    "PREFIX taxon: <http://purl.uniprot.org/taxonomy/>\n",
    "PREFIX skos: <http://www.w3.org/2004/02/skos/core#>\n",
    "PREFIX rdfs: <http://www.w3.org/2000/01/rdf-schema#>\n",
    "\n",
    "SELECT DISTINCT ?AGI_code ?gene_name\n",
    "WHERE {\n",
    "\t?protein a up:Protein .\n",
    "    ?protein up:organism taxon:3702 .\n",
    "    ?protein up:encodedBy ?gene .\n",
    "    ?gene a up:Gene .\n",
    "    ?gene skos:prefLabel ?gene_name .\n",
    "    ?gene up:locusName ?AGI_code .\n",
    "    ?protein up:annotation ?annotation .\n",
    "    ?annotation a up:Function_Annotation .\n",
    "    ?annotation rdfs:comment ?text\n",
    "    FILTER CONTAINS(?text, 'pattern formation')\n",
    "}"
   ]
  },
  {
   "cell_type": "markdown",
   "metadata": {},
   "source": [
    "### Q9. What is the MetaNetX Reaction identifier (starts with “mnxr”) for the UniProt Protein uniprotkb:Q18A79"
   ]
  },
  {
   "cell_type": "code",
   "execution_count": 23,
   "metadata": {},
   "outputs": [
    {
     "data": {
      "text/html": [
       "<div class=\"krn-spql\"><div class=\"magic\">Endpoint set to: https://rdf.metanetx.org/sparql</div><div class=\"magic\">Request format: JSON</div></div>"
      ],
      "text/plain": [
       "Endpoint set to: https://rdf.metanetx.org/sparql\n",
       "Request format: JSON\n"
      ]
     },
     "metadata": {},
     "output_type": "display_data"
    }
   ],
   "source": [
    "%endpoint https://rdf.metanetx.org/sparql\n",
    "%format JSON"
   ]
  },
  {
   "cell_type": "code",
   "execution_count": 24,
   "metadata": {},
   "outputs": [
    {
     "data": {
      "text/html": [
       "<div class=\"krn-spql\"><table><tr class=hdr><th>reac_label</th></tr><tr class=odd><td class=val>MNXR145046</td></tr><tr class=even><td class=val>MNXR165934</td></tr></table><div class=\"tinfo\">Total: 2, Shown: 2</div></div>"
      ]
     },
     "metadata": {},
     "output_type": "display_data"
    }
   ],
   "source": [
    "PREFIX rdfs: <http://www.w3.org/2000/01/rdf-schema#>\n",
    "PREFIX up: <http://purl.uniprot.org/core/>\n",
    "PREFIX uniprotkb: <http://purl.uniprot.org/uniprot/>\n",
    "PREFIX mnx: <https://rdf.metanetx.org/schema/>\n",
    "\n",
    "SELECT DISTINCT ?reac_label\n",
    "WHERE {\n",
    "    ?protein mnx:peptXref uniprotkb:Q18A79.\n",
    "\t?cata mnx:pept ?protein .\n",
    "    ?gpr mnx:cata ?cata ;\n",
    "         mnx:reac ?reac .\n",
    "    ?reac mnx:mnxr ?stable_reac .\n",
    "    ?stable_reac rdfs:label ?reac_label .\n",
    "}"
   ]
  },
  {
   "cell_type": "markdown",
   "metadata": {},
   "source": [
    "### Q10. What is the official Gene ID (UniProt calls this a “mnemonic”) and the MetaNetX Reaction identifier (mnxr…..) for the protein that has “Starch synthase” catalytic activity in Clostridium difficile (taxon 272563)."
   ]
  },
  {
   "cell_type": "code",
   "execution_count": 20,
   "metadata": {},
   "outputs": [
    {
     "data": {
      "text/html": [
       "<div class=\"krn-spql\"><table><tr class=hdr><th>gene_id</th>\n",
       "<th>reac_label</th></tr><tr class=odd><td class=val>GLGA_CLOD6</td>\n",
       "<td class=val>MNXR145046</td></tr><tr class=even><td class=val>GLGA_CLOD6</td>\n",
       "<td class=val>MNXR165934</td></tr></table><div class=\"tinfo\">Total: 2, Shown: 2</div></div>"
      ]
     },
     "metadata": {},
     "output_type": "display_data"
    }
   ],
   "source": [
    "PREFIX up: <http://purl.uniprot.org/core/>\n",
    "PREFIX taxon: <http://purl.uniprot.org/taxonomy/>\n",
    "PREFIX rdfs: <http://www.w3.org/2000/01/rdf-schema#>\n",
    "PREFIX up: <http://purl.uniprot.org/core/>\n",
    "PREFIX mnx: <https://rdf.metanetx.org/schema/>\n",
    "PREFIX skos: <http://www.w3.org/2004/02/skos/core#>\n",
    "\n",
    "SELECT DISTINCT ?gene_id ?reac_label\n",
    "WHERE {\n",
    "    SERVICE <https://sparql.uniprot.org/sparql> {\n",
    "        SELECT DISTINCT ?protein ?gene_id\n",
    "        WHERE {\n",
    "            ?protein a up:Protein .\n",
    "            ?protein up:organism taxon:272563 .\n",
    "            ?protein up:mnemonic ?gene_id .\n",
    "            ?protein up:enzyme ?enzyme .\n",
    "            ?enzyme skos:prefLabel ?text .\n",
    "            FILTER CONTAINS(?text, 'Starch synthase')\n",
    "        } \n",
    "    }\n",
    "    SERVICE <https://rdf.metanetx.org/sparql> {\n",
    "        ?prot mnx:peptXref ?protein .\n",
    "        ?cata mnx:pept ?prot .\n",
    "        ?gpr mnx:cata ?cata .\n",
    "        ?gpr mnx:reac ?reac .\n",
    "        ?reac mnx:mnxr ?stable_reac .\n",
    "        ?stable_reac rdfs:label ?reac_label .\n",
    "     }\n",
    "} "
   ]
  }
 ],
 "metadata": {
  "kernelspec": {
   "display_name": "SPARQL",
   "language": "sparql",
   "name": "sparql"
  },
  "language_info": {
   "codemirror_mode": {
    "name": "sparql"
   },
   "mimetype": "application/sparql-query",
   "name": "sparql",
   "pygments_lexer": "sparql-nb"
  },
  "orig_nbformat": 4
 },
 "nbformat": 4,
 "nbformat_minor": 2
}
