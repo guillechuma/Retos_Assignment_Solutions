{
 "cells": [
  {
   "cell_type": "code",
   "execution_count": 1,
   "metadata": {},
   "outputs": [
    {
     "data": {
      "text/plain": [
       "true"
      ]
     },
     "execution_count": 1,
     "metadata": {},
     "output_type": "execute_result"
    }
   ],
   "source": [
    "require 'bio'"
   ]
  },
  {
   "cell_type": "code",
   "execution_count": 66,
   "metadata": {},
   "outputs": [
    {
     "name": "stdout",
     "output_type": "stream",
     "text": [
      "\"VGGKKKTKICDKVSHEEDRISQLPEPLISEILFHLSTKDSVRTSALSTKWRYLWQSVPGLDLDPYASSNTNTIVSFVESFFDSHRDSWIRKLRLDLGYHHDKYDLMSWIDAATTRRIQHLDVHCFHDNKIPLSIYTCTTLVHLRLRWAVLTNPEFVSLPCLKIMHFENVSYPNETTLQKLISGSPVLEELILFSTMYPKGNVLQLRSDTLKRLDINEFIDVVIYAPLLQCLRAKMYSTKNFQIISSGFPAKLDIDFVNTGGRYQKKKVIEDILIDISRVRDLVISSNTWKEFFLYSKSRPLLQFRYISHLNARFYISDLEMLPTLLESCPKLESLILVMSSFNPS\"\n"
     ]
    }
   ],
   "source": [
    "# Retrieve sequences.\n",
    "fasta_file = Bio::FlatFile.auto(\"./data/TAIR10_cds_20101214_updated.fa\")\n",
    "fasta_file.each_entry do |x|\n",
    "    p x.naseq.translate[1..-2]\n",
    "    abort\n",
    "    protein = x.naseq.translate\n",
    "    puts protein.to_fasta(header= x.entry_id)\n",
    "    abort\n",
    "end"
   ]
  },
  {
   "cell_type": "code",
   "execution_count": 89,
   "metadata": {},
   "outputs": [],
   "source": [
    "# Modify databases\n",
    "fastaoutput = File.open('./data/ara.fa', 'w')\n",
    "fasta_file = Bio::FlatFile.auto(\"./data/TAIR10_cds_20101214_updated.fa\")\n",
    "fasta_file.each_entry do |x|\n",
    "    x.definition = x.entry_id\n",
    "    fastaoutput.write(x.to_s)\n",
    "end"
   ]
  },
  {
   "cell_type": "code",
   "execution_count": null,
   "metadata": {},
   "outputs": [],
   "source": [
    "# Modify databases\n",
    "fastaoutput = File.open('./data/ara.fa', 'w')\n",
    "fasta_file = Bio::FlatFile.auto(\"./data/TAIR10_cds_20101214_updated.fa\")\n",
    "fasta_file.each_entry do |x|å\n",
    "    x.definition = x.entry_id\n",
    "    fastaoutput.write(x.to_s)\n",
    "end"
   ]
  }
 ],
 "metadata": {
  "kernelspec": {
   "display_name": "Ruby 3.0.2",
   "language": "ruby",
   "name": "ruby"
  },
  "language_info": {
   "file_extension": ".rb",
   "mimetype": "application/x-ruby",
   "name": "ruby",
   "version": "3.0.2"
  },
  "orig_nbformat": 4
 },
 "nbformat": 4,
 "nbformat_minor": 2
}
