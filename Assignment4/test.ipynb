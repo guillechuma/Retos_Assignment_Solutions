{
 "cells": [
  {
   "cell_type": "code",
   "execution_count": 1,
   "metadata": {},
   "outputs": [
    {
     "data": {
      "text/plain": [
       "true"
      ]
     },
     "execution_count": 1,
     "metadata": {},
     "output_type": "execute_result"
    }
   ],
   "source": [
    "require 'bio'"
   ]
  },
  {
   "cell_type": "code",
   "execution_count": 3,
   "metadata": {},
   "outputs": [
    {
     "data": {
      "text/plain": [
       "#<Bio::FlatFile:0x000055cc83f3f4d0 @stream=#<Bio::FlatFile::BufferedInputStream:0x000055cc83f3f520 @io=#<File:./data/TAIR10_cds_20101214_updated.fa>, @path=\"./data/TAIR10_cds_20101214_updated.fa\", @buffer=\">AT1G51370.2 | Symbols:  | F-box/RNI-like/FBD-like domains-containing protein | chr1:19045615-19046748 FORWARD LENGTH=1041\\nATGGTGGGTGGCAAGAAGAAAACCAAGATATGTGACAAAGTGTCACATGAGGAAGATAGGATAAGCCAGTTACCGGAACC\\n\">, @dbclass=Bio::FastaFormat, @splitter=#<Bio::FlatFile::Splitter::Default:0x000055cc83f3e008 @dbclass=Bio::FastaFormat, @stream=#<Bio::FlatFile::BufferedInputStream:0x000055cc83f3f520 @io=#<File:./data/TAIR10_cds_20101214_updated.fa>, @path=\"./data/TAIR10_cds_20101214_updated.fa\", @buffer=\">AT1G51370.2 | Symbols:  | F-box/RNI-like/FBD-like domains-containing protein | chr1:19045615-19046748 FORWARD LENGTH=1041\\nATGGTGGGTGGCAAGAAGAAAACCAAGATATGTGACAAAGTGTCACATGAGGAAGATAGGATAAGCCAGTTACCGGAACC\\n\">, @entry_pos_flag=nil, @delimiter=\"\\n>\", @header=nil, @delimiter_overrun=1>, @skip_leader_mode=:firsttime, @firsttime_flag=true, @raw=false>"
      ]
     },
     "execution_count": 3,
     "metadata": {},
     "output_type": "execute_result"
    }
   ],
   "source": [
    "# Retrieve sequences.\n",
    "fasta_file = Bio::FlatFile.auto(\"./data/TAIR10_cds_20101214_updated.fa\")"
   ]
  },
  {
   "cell_type": "code",
   "execution_count": null,
   "metadata": {},
   "outputs": [],
   "source": []
  }
 ],
 "metadata": {
  "kernelspec": {
   "display_name": "Ruby 2.5.1",
   "language": "ruby",
   "name": "ruby"
  },
  "language_info": {
   "file_extension": ".rb",
   "mimetype": "application/x-ruby",
   "name": "ruby",
   "version": "2.5.1"
  },
  "orig_nbformat": 4
 },
 "nbformat": 4,
 "nbformat_minor": 2
}
