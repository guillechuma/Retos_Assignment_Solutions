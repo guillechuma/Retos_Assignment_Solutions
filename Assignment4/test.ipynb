{
 "cells": [
  {
   "cell_type": "code",
   "execution_count": 1,
   "metadata": {},
   "outputs": [
    {
     "data": {
      "text/plain": [
       "true"
      ]
     },
     "execution_count": 1,
     "metadata": {},
     "output_type": "execute_result"
    }
   ],
   "source": [
    "require 'bio'"
   ]
  },
  {
   "cell_type": "code",
   "execution_count": 91,
   "metadata": {},
   "outputs": [],
   "source": [
    "# Convert sequences to protein file\n",
    "faaoutput = File.open('./data/athaliana.faa', 'w')\n",
    "fasta_file = Bio::FlatFile.auto(\"./data/athaliana.fa\")\n",
    "fasta_file.each_entry do |x|\n",
    "    if x.naseq.translate[-1] == \"*\"\n",
    "        protein = x.naseq.translate[1..-2]\n",
    "    else\n",
    "        protein = x.naseq.translate\n",
    "    end\n",
    "    seq_str = protein.to_s\n",
    "    seq = Bio::Sequence.new(seq_str)\n",
    "    faaoutput.puts seq.output_fasta(definition = x.definition)\n",
    "end"
   ]
  },
  {
   "cell_type": "code",
   "execution_count": 89,
   "metadata": {},
   "outputs": [],
   "source": [
    "# Modify databases\n",
    "fastaoutput = File.open('./data/ara.fa', 'w')\n",
    "fasta_file = Bio::FlatFile.auto(\"./data/TAIR10_cds_20101214_updated.fa\")\n",
    "fasta_file.each_entry do |x|\n",
    "    x.definition = x.entry_id\n",
    "    fastaoutput.write(x.to_s)\n",
    "end"
   ]
  },
  {
   "cell_type": "code",
   "execution_count": null,
   "metadata": {},
   "outputs": [],
   "source": [
    "# Modify databases\n",
    "fastaoutput = File.open('./data/ara.fa', 'w')\n",
    "fasta_file = Bio::FlatFile.auto(\"./data/TAIR10_cds_20101214_updated.fa\")\n",
    "fasta_file.each_entry do |x|å\n",
    "    x.definition = x.entry_id\n",
    "    fastaoutput.write(x.to_s)\n",
    "end"
   ]
  },
  {
   "cell_type": "code",
   "execution_count": 1,
   "metadata": {},
   "outputs": [
    {
     "name": "stdout",
     "output_type": "stream",
     "text": [
      "DONE\n"
     ]
    }
   ],
   "source": [
    "# Retrieve query sequences\n",
    "require 'rest-client'\n",
    "require 'bio'\n",
    "\n",
    "# Auxiliary function to fetch a URL correctly.\n",
    "# \n",
    "# @param url [String] The URL to search.\n",
    "# @return [String] The response for the URL.\n",
    "def fetch(url, headers = {accept: \"*/*\"}, user = \"\", pass=\"\")\n",
    "\tresponse = RestClient::Request.execute({\n",
    "\t  method: :get,\n",
    "\t  url: url.to_s,\n",
    "\t  user: user,\n",
    "\t  password: pass,\n",
    "\t  headers: headers})\n",
    "\treturn response\n",
    "\t\n",
    "\trescue RestClient::ExceptionWithResponse => e\n",
    "\t  $stderr.puts e.inspect\n",
    "\t  response = false\n",
    "\t  return response  # now we are returning 'False', and we will check that with an \\\"if\\\" statement in our main code\n",
    "\trescue RestClient::Exception => e\n",
    "\t  $stderr.puts e.inspect\n",
    "\t  response = false\n",
    "\t  return response  # now we are returning 'False', and we will check that with an \\\"if\\\" statement in our main code\n",
    "\trescue Exception => e\n",
    "\t  $stderr.puts e.inspect\n",
    "\t  response = false\n",
    "\t  return response  # now we are returning 'False', and we will check that with an \\\"if\\\" statement in our main code\n",
    "end\n",
    "\n",
    "  \n",
    "genes = File.open('./ArabidopsisSubNetwork_GeneList.txt', 'r')\n",
    "genearray = genes.read.split() # this will read each line into an array\n",
    "genes.close\n",
    "  \n",
    "fastaoutput = File.open('./data/ara_genes.fa', 'w')\n",
    "\n",
    "genearray.each do |geneid|\n",
    "  \n",
    "  url = \"http://www.ebi.ac.uk/Tools/dbfetch/dbfetch?db=ensemblgenomesgene&format=fasta&id=#{geneid}\"\n",
    "  res = fetch(url)  # we really should check that the return value is valid, but... \n",
    "  fastafile = Bio::FlatFile.new(Bio::FastaFormat, StringIO.new(res.body))\n",
    "  fastafile.each_entry do |fasta|\n",
    "    naseq = fasta.to_biosequence\n",
    "    fastaoutput.puts naseq.output_fasta(geneid)\n",
    "  end\n",
    "end\n",
    "puts \"DONE\""
   ]
  },
  {
   "cell_type": "code",
   "execution_count": 13,
   "metadata": {},
   "outputs": [
    {
     "data": {
      "text/plain": [
       ":fasta2dict"
      ]
     },
     "execution_count": 13,
     "metadata": {},
     "output_type": "execute_result"
    }
   ],
   "source": [
    "# Auxiliary method to index the fasta files\n",
    "def fasta2dict(fasta_file)\n",
    "    fasta_dict = Hash.new\n",
    "    fasta_data = Bio::FlatFile.auto(fasta_file)\n",
    "    fasta_data.each_entry do |fasta|\n",
    "        fasta_dict[fasta.definition] = fasta.to_s\n",
    "    end\n",
    "    return fasta_dict\n",
    "end"
   ]
  },
  {
   "cell_type": "code",
   "execution_count": 14,
   "metadata": {},
   "outputs": [
    {
     "name": "stdout",
     "output_type": "stream",
     "text": [
      "\n"
     ]
    }
   ],
   "source": [
    "spombe_fasta = fasta2dict(\"./data/spombe.fa\")\n",
    "puts"
   ]
  },
  {
   "cell_type": "code",
   "execution_count": 41,
   "metadata": {},
   "outputs": [
    {
     "ename": "Interrupt",
     "evalue": "",
     "output_type": "error",
     "traceback": [
      "\u001b[31mInterrupt\u001b[0m: ",
      "/usr/local/lib/ruby/gems/2.5.0/gems/bio-2.0.1/lib/bio/command.rb:482:in `read'",
      "/usr/local/lib/ruby/gems/2.5.0/gems/bio-2.0.1/lib/bio/command.rb:482:in `block in query_command_popen'",
      "/usr/local/lib/ruby/gems/2.5.0/gems/bio-2.0.1/lib/bio/command.rb:313:in `block in _call_command_popen_ruby19'",
      "/usr/local/lib/ruby/gems/2.5.0/gems/bio-2.0.1/lib/bio/command.rb:312:in `popen'",
      "/usr/local/lib/ruby/gems/2.5.0/gems/bio-2.0.1/lib/bio/command.rb:312:in `_call_command_popen_ruby19'",
      "/usr/local/lib/ruby/gems/2.5.0/gems/bio-2.0.1/lib/bio/command.rb:240:in `call_command_popen'",
      "/usr/local/lib/ruby/gems/2.5.0/gems/bio-2.0.1/lib/bio/command.rb:478:in `query_command_popen'",
      "/usr/local/lib/ruby/gems/2.5.0/gems/bio-2.0.1/lib/bio/command.rb:444:in `query_command'",
      "/usr/local/lib/ruby/gems/2.5.0/gems/bio-2.0.1/lib/bio/appl/blast.rb:487:in `exec_local'",
      "/usr/local/lib/ruby/gems/2.5.0/gems/bio-2.0.1/lib/bio/appl/blast.rb:367:in `query'",
      "(irb):53:in `block (2 levels) in <main>'",
      "/usr/local/lib/ruby/gems/2.5.0/gems/bio-2.0.1/lib/bio/io/flatfile.rb:336:in `each_entry'",
      "(irb):21:in `block in <main>'",
      "(irb):17:in `open'",
      "(irb):17:in `<main>'"
     ]
    }
   ],
   "source": [
    "require 'bio'\n",
    "\n",
    "# blast is installed globally, so you don't need to include the full path to blastn\n",
    "factory = Bio::Blast.local('blastp', './databases/spombe', '-e 0.0001')   # wherever your database is....a BLAST \"factory\" \n",
    "#factory = Bio::Blast.local('tblastx', '/home/osboxes/Databases/EBOLA') # \n",
    "# Matches using proteins are more biologically meaningfull!! More AA (DNA is more redundant)\n",
    "# blastn is the least accurate.\n",
    "\n",
    "query_file = \"./data/athaliana.faa\"\n",
    "query_data = Bio::FlatFile.auto(query_file)\n",
    "\n",
    "reciprocal_factory = Bio::Blast.local('blastp', './databases/athaliana_prot', '-e 0.000001')\n",
    "#reciprocal_query_file = \"./data/spombe.faa\"\n",
    "#reciprocal_query_data = Bio::FlatFile.auto(query_file)\n",
    "\n",
    "id_regex = Regexp.new(/^(\\w+\\.\\w+)/i)\n",
    "\n",
    "File.open('RBH_ara_spombe.txt','w') do |file|\n",
    "  file.write(\"Orthologues between A.thaniana and S.pombe\\n\")\n",
    "  file.write(\"A.thaniana gene\\tS.pombe gene\\n\")\n",
    "\n",
    "  query_data.each_entry do |query_fasta|\n",
    "\n",
    "    # puts query_fasta.entry_id\n",
    "    query = query_fasta.to_s\n",
    "    # puts query.length\n",
    "    report = factory.query(query) # Bio::Blast::Report\n",
    "    hit = report.hits[0] # hit: Bio::Blast::Report::Hit\n",
    "    next if hit.nil? # Filter no hits\n",
    "    # hit: Bio::Blast::Report::Hit\n",
    "    # puts \"hit: query #{hit.query_def} with target #{hit.target_def}\"\n",
    "    # puts \"Eval #{hit.evalue}\\tScore #{hit.bit_score/query.length.to_f}\"\n",
    "    # puts \"#{hit.lap_at}\"\n",
    "    hsp = hit.hsps[0] # Bio::Blast::Report::Hsp\n",
    "    next if hsp.nil?\n",
    "\n",
    "    cov = hsp.align_len/query_fasta.length.to_f\n",
    "\n",
    "    if query_fasta.definition.match(id_regex)\n",
    "      query_id = $1\n",
    "    end\n",
    "\n",
    "    if cov > 0.5\n",
    "      # puts \"Query coverage: #{cov}\" \n",
    "      # puts hsp.qseq\n",
    "      # puts hsp.midline\n",
    "      # puts hsp.hseq\n",
    "      # Make blast with other seq\n",
    "      reciprocal_factory = Bio::Blast.local('blastp', './databases/athaliana_prot', '-e 0.000001')\n",
    "      reciprocal_query = Bio::FastaFormat.new(spombe_fasta[hit.target_def])\n",
    "\n",
    "      reciprocal_query_id = reciprocal_query.entry_id\n",
    "\n",
    "      reciprocal_report = reciprocal_factory.query(reciprocal_query.to_s) # Bio::Blast::Report\n",
    "\n",
    "      reciprocal_hit = reciprocal_report.hits[0] # hit: Bio::Blast::Report::Hit\n",
    "      next if reciprocal_hit.nil? # Filter no hits\n",
    "\n",
    "      reciprocal_hsp = reciprocal_hit.hsps[0] # Bio::Blast::Report::Hsp\n",
    "      next if reciprocal_hsp.nil?\n",
    "\n",
    "      if reciprocal_hit.target_def.match(id_regex)\n",
    "        reciprocal_target_id = $1\n",
    "      end\n",
    "\n",
    "      reciprocal_cov = reciprocal_hsp.align_len/reciprocal_query.length.to_f\n",
    "      \n",
    "      if reciprocal_cov > 0.5\n",
    "        # Check if the target hit is the query hit of the first blast\n",
    "        if reciprocal_target_id == query_id\n",
    "          file.write(\"#{query_id}\\t#{reciprocal_query_id}\\n\")\n",
    "        end\n",
    "      end\n",
    "    end\n",
    "  end\n",
    "end\n",
    "# executes homology search. Returns Bio::Blast::Report object.\n",
    "# report = factory.query(\">myseq\\nAGCCCCGTTTTTTGCCACTGGAATTAAGCCAATAACGTCAAGTGCTAGATCTAGTGAGTGGTAT\") # this is a Bio::Blast::Report\n",
    "# This is important for the assignment.\n",
    "\n",
    "#puts factory.output   # to see the blast report, verbatim\n",
    "#puts report.hits\n",
    "# Iterates over each hit\n",
    "# report.each_hit do |hit|\n",
    "#   puts hit.class\n",
    "#   puts \"#{hit.hit_id} : evalue #{hit.evalue}\\t#{hit.bit_score} at \"\n",
    "#   puts \"#{hit.lap_at}\"   # this tells you start and end of both the query and the hit sequences\n",
    "#   hit.each do |hsp|\n",
    "#     puts hsp.align_len\n",
    "#     puts hsp.qseq  # this is the gapped Alignment as text of the query\n",
    "#     puts hsp.hseq  # this is the gapped Alignment as text of the hit\n",
    "#   end\n",
    "# end\n",
    "\n",
    "# Its possible that the query matches different places of the database (it considers it two separate matches).\n",
    "# high scoring segment pair (both sequence aligned) (hsp).\n",
    "# In a report you have multiple hits, each hit has multiple hsp"
   ]
  },
  {
   "cell_type": "code",
   "execution_count": 115,
   "metadata": {},
   "outputs": [
    {
     "data": {
      "text/plain": [
       "\">SPBC651.01c|nog1|II|GTP binding protein Nog1 (predicted)\\nMATAVFKNITPIPDVNTFLDVVLSRTQRKTPTVIRSGFKISRIRGFYGRKVKFTQDTITE\\nKLDSILQEFPKLNDIHPFHADLLNILYDRDHLKIALSQLSTAKHLVENVARDYIRLLKYG\\nDSLYRCKQLKRAALGRMATIIKRQKSSLEFLEQVRQHLSRLPAIDPNTRTLLVCGYPNVG\\nKSSFMNKVTRAQVDVQPYAFTTKSLFVGHFDYKYLRWQVIDTPGILDHPLEQMNTIEMQS\\nITAMAHLRSAVLYFMDLSEMCGYSVAAQVKLYHSIKPLFANKVTILVLNKIDAMRPEDLD\\nQKNQELLQTIIDDGNVKVVQTSCVQDIGVMDVRTTACEALLAARVEQKLKGSRVNNVLNR\\nIHLAEPAARDEVARPACIPDSVKTRRAYDANDPNRRILARDIEAANGGAGVYNVELRDKY\\nILQDPSWKYDRMPELLDGKNVADFVDPEIEAKLLALDEEEERLEREGYYDSDQEIEDADE\\nEEVLEKASRIREKNKLTMLAARQKKIKNRPVLPRTAGIRTLDELQSSLQSAGLPSDSIEE\\nRARSRARTAAANEMADGSGVDLLMNEGEEIRSKSIAPRSQSNRRESGVHAEGARSYADRL\\nARVKQIHRNRMARASESDRHVIAAKPKHLLSGKRGNGKTQRR\\n\""
      ]
     },
     "execution_count": 115,
     "metadata": {},
     "output_type": "execute_result"
    }
   ],
   "source": [
    "spombe_fasta['SPBC651.01c|nog1|II|GTP binding protein Nog1 (predicted)']"
   ]
  },
  {
   "cell_type": "code",
   "execution_count": null,
   "metadata": {},
   "outputs": [],
   "source": []
  },
  {
   "cell_type": "code",
   "execution_count": 114,
   "metadata": {},
   "outputs": [
    {
     "data": {
      "text/plain": [
       "false"
      ]
     },
     "execution_count": 114,
     "metadata": {},
     "output_type": "execute_result"
    }
   ],
   "source": [
    "require 'stringio'"
   ]
  },
  {
   "cell_type": "code",
   "execution_count": 8,
   "metadata": {},
   "outputs": [
    {
     "data": {
      "text/plain": [
       "false"
      ]
     },
     "execution_count": 8,
     "metadata": {},
     "output_type": "execute_result"
    }
   ],
   "source": [
    "require 'bio'"
   ]
  }
 ],
 "metadata": {
  "interpreter": {
   "hash": "a3352ec02a095a4c5f8efcb08bd6626e8c8b0abd9d0a823582ef4464d46032a0"
  },
  "kernelspec": {
   "display_name": "Ruby 3.0.2",
   "language": "ruby",
   "name": "ruby"
  },
  "language_info": {
   "file_extension": ".rb",
   "mimetype": "application/x-ruby",
   "name": "ruby",
   "version": "2.5.9"
  },
  "orig_nbformat": 4
 },
 "nbformat": 4,
 "nbformat_minor": 2
}
