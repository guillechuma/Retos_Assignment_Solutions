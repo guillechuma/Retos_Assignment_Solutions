{
 "cells": [
  {
   "cell_type": "code",
   "execution_count": 1,
   "metadata": {},
   "outputs": [
    {
     "data": {
      "text/plain": [
       "true"
      ]
     },
     "execution_count": 1,
     "metadata": {},
     "output_type": "execute_result"
    }
   ],
   "source": [
    "require 'bio'"
   ]
  },
  {
   "cell_type": "code",
   "execution_count": 66,
   "metadata": {},
   "outputs": [
    {
     "name": "stdout",
     "output_type": "stream",
     "text": [
      "\"VGGKKKTKICDKVSHEEDRISQLPEPLISEILFHLSTKDSVRTSALSTKWRYLWQSVPGLDLDPYASSNTNTIVSFVESFFDSHRDSWIRKLRLDLGYHHDKYDLMSWIDAATTRRIQHLDVHCFHDNKIPLSIYTCTTLVHLRLRWAVLTNPEFVSLPCLKIMHFENVSYPNETTLQKLISGSPVLEELILFSTMYPKGNVLQLRSDTLKRLDINEFIDVVIYAPLLQCLRAKMYSTKNFQIISSGFPAKLDIDFVNTGGRYQKKKVIEDILIDISRVRDLVISSNTWKEFFLYSKSRPLLQFRYISHLNARFYISDLEMLPTLLESCPKLESLILVMSSFNPS\"\n"
     ]
    }
   ],
   "source": [
    "# Retrieve sequences.\n",
    "fasta_file = Bio::FlatFile.auto(\"./data/TAIR10_cds_20101214_updated.fa\")\n",
    "fasta_file.each_entry do |x|\n",
    "    p x.naseq.translate[1..-2]\n",
    "    abort\n",
    "    protein = x.naseq.translate\n",
    "    puts protein.to_fasta(header= x.entry_id)\n",
    "    abort\n",
    "end"
   ]
  },
  {
   "cell_type": "code",
   "execution_count": 89,
   "metadata": {},
   "outputs": [],
   "source": [
    "# Modify databases\n",
    "fastaoutput = File.open('./data/ara.fa', 'w')\n",
    "fasta_file = Bio::FlatFile.auto(\"./data/TAIR10_cds_20101214_updated.fa\")\n",
    "fasta_file.each_entry do |x|\n",
    "    x.definition = x.entry_id\n",
    "    fastaoutput.write(x.to_s)\n",
    "end"
   ]
  },
  {
   "cell_type": "code",
   "execution_count": null,
   "metadata": {},
   "outputs": [],
   "source": [
    "# Modify databases\n",
    "fastaoutput = File.open('./data/ara.fa', 'w')\n",
    "fasta_file = Bio::FlatFile.auto(\"./data/TAIR10_cds_20101214_updated.fa\")\n",
    "fasta_file.each_entry do |x|å\n",
    "    x.definition = x.entry_id\n",
    "    fastaoutput.write(x.to_s)\n",
    "end"
   ]
  },
  {
   "cell_type": "code",
   "execution_count": 1,
   "metadata": {},
   "outputs": [
    {
     "name": "stdout",
     "output_type": "stream",
     "text": [
      "DONE\n"
     ]
    }
   ],
   "source": [
    "# Retrieve query sequences\n",
    "require 'rest-client'\n",
    "require 'bio'\n",
    "\n",
    "# Auxiliary function to fetch a URL correctly.\n",
    "# \n",
    "# @param url [String] The URL to search.\n",
    "# @return [String] The response for the URL.\n",
    "def fetch(url, headers = {accept: \"*/*\"}, user = \"\", pass=\"\")\n",
    "\tresponse = RestClient::Request.execute({\n",
    "\t  method: :get,\n",
    "\t  url: url.to_s,\n",
    "\t  user: user,\n",
    "\t  password: pass,\n",
    "\t  headers: headers})\n",
    "\treturn response\n",
    "\t\n",
    "\trescue RestClient::ExceptionWithResponse => e\n",
    "\t  $stderr.puts e.inspect\n",
    "\t  response = false\n",
    "\t  return response  # now we are returning 'False', and we will check that with an \\\"if\\\" statement in our main code\n",
    "\trescue RestClient::Exception => e\n",
    "\t  $stderr.puts e.inspect\n",
    "\t  response = false\n",
    "\t  return response  # now we are returning 'False', and we will check that with an \\\"if\\\" statement in our main code\n",
    "\trescue Exception => e\n",
    "\t  $stderr.puts e.inspect\n",
    "\t  response = false\n",
    "\t  return response  # now we are returning 'False', and we will check that with an \\\"if\\\" statement in our main code\n",
    "end\n",
    "\n",
    "  \n",
    "genes = File.open('./ArabidopsisSubNetwork_GeneList.txt', 'r')\n",
    "genearray = genes.read.split() # this will read each line into an array\n",
    "genes.close\n",
    "  \n",
    "fastaoutput = File.open('./data/ara_genes.fa', 'w')\n",
    "\n",
    "genearray.each do |geneid|\n",
    "  \n",
    "  url = \"http://www.ebi.ac.uk/Tools/dbfetch/dbfetch?db=ensemblgenomesgene&format=fasta&id=#{geneid}\"\n",
    "  res = fetch(url)  # we really should check that the return value is valid, but... \n",
    "  fastafile = Bio::FlatFile.new(Bio::FastaFormat, StringIO.new(res.body))\n",
    "  fastafile.each_entry do |fasta|\n",
    "    naseq = fasta.to_biosequence\n",
    "    fastaoutput.puts naseq.output_fasta(geneid)\n",
    "  end\n",
    "end\n",
    "puts \"DONE\""
   ]
  },
  {
   "cell_type": "code",
   "execution_count": 4,
   "metadata": {},
   "outputs": [
    {
     "name": "stderr",
     "output_type": "stream",
     "text": [
      "Searching ... \n"
     ]
    },
    {
     "ename": "Errno::ENOENT",
     "evalue": "No such file or directory - blastall",
     "output_type": "error",
     "traceback": [
      "\u001b[31mErrno::ENOENT\u001b[0m: No such file or directory - blastall",
      "/opt/homebrew/lib/ruby/gems/3.0.0/gems/bio-2.0.2/lib/bio/command.rb:312:in `popen'",
      "/opt/homebrew/lib/ruby/gems/3.0.0/gems/bio-2.0.2/lib/bio/command.rb:312:in `_call_command_popen_ruby19'",
      "/opt/homebrew/lib/ruby/gems/3.0.0/gems/bio-2.0.2/lib/bio/command.rb:240:in `call_command_popen'",
      "/opt/homebrew/lib/ruby/gems/3.0.0/gems/bio-2.0.2/lib/bio/command.rb:478:in `query_command_popen'",
      "/opt/homebrew/lib/ruby/gems/3.0.0/gems/bio-2.0.2/lib/bio/command.rb:444:in `query_command'",
      "/opt/homebrew/lib/ruby/gems/3.0.0/gems/bio-2.0.2/lib/bio/appl/blast.rb:487:in `exec_local'",
      "/opt/homebrew/lib/ruby/gems/3.0.0/gems/bio-2.0.2/lib/bio/appl/blast.rb:367:in `query'",
      "(irb):14:in `<main>'"
     ]
    }
   ],
   "source": [
    "require 'bio'\n",
    "require 'stringio'\n",
    "\n",
    "# blast is installed globally, so you don't need to include the full path to blastn\n",
    "factory = Bio::Blast.local('blastn', './databases/athaliana')   # wherever your database is....a BLAST \"factory\" \n",
    "#factory = Bio::Blast.local('tblastx', '/home/osboxes/Databases/EBOLA') # \n",
    "# Matches using proteins are more biologically meaningfull!! More AA (DNA is more redundant)\n",
    "# blastn is the least accurate.\n",
    "\n",
    "\n",
    "$stderr.puts \"Searching ... \"  # output to \"standard error\", this is to output comments to yourself, or error messages\n",
    "                               # that are not intended to be part of the output of the software (pink background)\n",
    "\n",
    "# executes homology search. Returns Bio::Blast::Report object.\n",
    "report = factory.query(\">myseq\\nAGCCCCGTTTTTTGCCACTGGAATTAAGCCAATAACGTCAAGTGCTAGATCTAGTGAGTGGTAT\") # this is a Bio::Blast::Report\n",
    "abort\n",
    "# This is important for the assignment.\n",
    "\n",
    "#puts factory.output   # to see the blast report, verbatim\n",
    "#puts report.hits\n",
    "# Iterates over each hit\n",
    "report.each do |hit|\n",
    "  print \"#{hit.hit_id} : evalue #{hit.evalue}\\t#{hit.target_id} at \"\n",
    "  puts \"#{hit.lap_at}\"   # this tells you start and end of both the query and the hit sequences\n",
    "  hit.each do |hsp|\n",
    "    puts hsp.qseq  # this is the gapped Alignment as text of the query\n",
    "    puts hsp.hseq  # this is the gapped Alignment as text of the hit\n",
    "  end\n",
    "end\n",
    "\n",
    "# Its possible that the query matches different places of the database (it considers it two separate matches).\n",
    "# high scoring segment pair (both sequence aligned) (hsp).\n",
    "# In a report you have multiple hits, each hit has multiple hsp"
   ]
  },
  {
   "cell_type": "code",
   "execution_count": 3,
   "metadata": {},
   "outputs": [
    {
     "data": {
      "text/plain": [
       "#<Bio::Blast:0x00000001321e8ba0 @program=\"blastn\", @db=\"./databases/athaliana\", @blastall=\"blastall\", @matrix=nil, @filter=nil, @output=\"\", @parser=nil, @format=7, @options=[], @server=\"local\">"
      ]
     },
     "execution_count": 3,
     "metadata": {},
     "output_type": "execute_result"
    }
   ],
   "source": [
    "factory"
   ]
  },
  {
   "cell_type": "code",
   "execution_count": null,
   "metadata": {},
   "outputs": [],
   "source": []
  }
 ],
 "metadata": {
  "kernelspec": {
   "display_name": "Ruby 3.0.2",
   "language": "ruby",
   "name": "ruby"
  },
  "language_info": {
   "file_extension": ".rb",
   "mimetype": "application/x-ruby",
   "name": "ruby",
   "version": "3.0.2"
  },
  "orig_nbformat": 4
 },
 "nbformat": 4,
 "nbformat_minor": 2
}
